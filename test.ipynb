{
 "cells": [
  {
   "cell_type": "code",
   "execution_count": 47,
   "id": "steady-discount",
   "metadata": {},
   "outputs": [
    {
     "name": "stdout",
     "output_type": "stream",
     "text": [
      "['ATG', 'AGA', 'TAG', 'G']\n",
      "['ATG', 'AGA']\n"
     ]
    }
   ],
   "source": [
    "dna = \"ATGAGATAGG\"\n",
    "Orf1 = []\n",
    "\n",
    "for i in range(0, len(dna), 3 ):\n",
    "    Orf1.append( dna[0+int(i):3+int(i)] )\n",
    "print(Orf1)\n",
    "\n",
    "start = (Orf1.index(\"ATG\")) #start index\n",
    "\n",
    "if \"TAG\" not in Orf1:\n",
    "    print(Orf1[start:])\n",
    "else:\n",
    "    stop = (Orf1.index(\"TAG\")) #stop index\n",
    "\n",
    "    print(Orf1[start:stop])\n",
    "\n",
    "# start = 'ATG'\n",
    "# stop = ['TAG', 'TAA', 'TGA']"
   ]
  }
 ],
 "metadata": {
  "kernelspec": {
   "display_name": "Python 3",
   "language": "python",
   "name": "python3"
  },
  "language_info": {
   "codemirror_mode": {
    "name": "ipython",
    "version": 3
   },
   "file_extension": ".py",
   "mimetype": "text/x-python",
   "name": "python",
   "nbconvert_exporter": "python",
   "pygments_lexer": "ipython3",
   "version": "3.8.3"
  }
 },
 "nbformat": 4,
 "nbformat_minor": 5
}
