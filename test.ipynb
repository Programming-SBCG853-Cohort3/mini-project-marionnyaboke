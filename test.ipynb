{
 "cells": [
  {
   "cell_type": "code",
   "execution_count": 47,
   "id": "boolean-deposit",
   "metadata": {},
   "outputs": [
    {
     "name": "stdout",
     "output_type": "stream",
     "text": [
      "['ATG', 'AGA', 'TAG', 'G']\n",
      "['ATG', 'AGA']\n"
     ]
    }
   ],
   "source": [
    "dna = \"ATGAGATAGG\"\n",
    "Orf1 = []\n",
    "\n",
    "for i in range(0, len(dna), 3 ):\n",
    "    Orf1.append( dna[0+int(i):3+int(i)] )\n",
    "print(Orf1)\n",
    "\n",
    "start = (Orf1.index(\"ATG\")) #start index\n",
    "\n",
    "if \"TAG\" not in Orf1:\n",
    "    print(Orf1[start:])\n",
    "else:\n",
    "    stop = (Orf1.index(\"TAG\")) #stop index\n",
    "\n",
    "    print(Orf1[start:stop])\n",
    "\n",
    "# start = 'ATG'\n",
    "# stop = ['TAG', 'TAA', 'TGA']"
   ]
  },
  {
   "cell_type": "code",
   "execution_count": null,
   "id": "strong-surgery",
   "metadata": {},
   "outputs": [],
   "source": [
    "dna = \"ATGAATCCTGGTATGTTTCCCTAAGGGAAATGA\"\n",
    "Orf1 = []\n",
    "\n",
    "for i in range(0, len(dna), 3 ):\n",
    "    Orf1.append( dna[0+int(i):3+int(i)] )\n",
    "print(Orf1)\n",
    "\n",
    "#find all start codons and index\n",
    "start_at = -1\n",
    "indexs_start = []\n",
    "while True:\n",
    "    try:\n",
    "        loc = Orf1.index(\"ATG\",start_at+1)\n",
    "    except ValueError:\n",
    "        break\n",
    "    else:\n",
    "        indexs_start.append(loc)\n",
    "        start_at = loc\n",
    "\n",
    "print(indexs_start, \"\\n\")\n",
    "\n",
    "#find all stop codons\n",
    "all_stops = []\n",
    "\n",
    "stops = ['TAG', 'TAA', 'TGA']\n",
    "\n",
    "for i in stops:\n",
    "    if i in Orf1:\n",
    "        all_stops.append(i)\n",
    "\n",
    "print(\"All stop codons in this orf ---->\", all_stops, \"\\n\")\n",
    "\n",
    "indexs_stops = []\n",
    "\n",
    "for i in stops:\n",
    "    if i in Orf1:\n",
    "        indexs_stops.append(int(Orf1.index(i)))\n",
    "\n",
    "print (indexs_stops)\n",
    "\n",
    "for i, j in zip(indexs_start, indexs_stops):\n",
    "      print(\"\".join(Orf1[i:j]))\n",
    "\n"
   ]
  }
 ],
 "metadata": {
  "kernelspec": {
   "display_name": "Python 3",
   "language": "python",
   "name": "python3"
  },
  "language_info": {
   "codemirror_mode": {
    "name": "ipython",
    "version": 3
   },
   "file_extension": ".py",
   "mimetype": "text/x-python",
   "name": "python",
   "nbconvert_exporter": "python",
   "pygments_lexer": "ipython3",
   "version": "3.8.3"
  }
 },
 "nbformat": 4,
 "nbformat_minor": 5
}
