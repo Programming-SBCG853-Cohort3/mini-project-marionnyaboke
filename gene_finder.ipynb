{
 "cells": [
  {
   "cell_type": "code",
   "execution_count": 2,
   "metadata": {},
   "outputs": [],
   "source": [
    "import random\n",
    "from amino_acids import aa, codons, aa_table   # you may find these useful\n",
    "from load import load_seq"
   ]
  },
  {
   "cell_type": "code",
   "execution_count": 3,
   "metadata": {},
   "outputs": [],
   "source": [
    "def shuffle_string(s):\n",
    "    \"\"\"Shuffles the characters in the input string\n",
    "        NOTE: this is a helper function, you do not\n",
    "        have to modify this in any way \"\"\"\n",
    "    return ''.join(random.sample(s, len(s)))\n",
    "\n",
    "# YOU WILL START YOUR IMPLEMENTATION FROM HERE DOWN ###\n"
   ]
  },
  {
   "cell_type": "code",
   "execution_count": 6,
   "metadata": {},
   "outputs": [
    {
     "name": "stdout",
     "output_type": "stream",
     "text": [
      "Not a nucleotide\n"
     ]
    }
   ],
   "source": [
    "def get_complement(nucleotide):\n",
    "    \"\"\" Returns the complementary nucleotide\n",
    "\n",
    "        nucleotide: a nucleotide (A, C, G, or T) represented as a string\n",
    "        returns: the complementary nucleotide\n",
    "    >>> get_complement('A')\n",
    "    'T'\n",
    "    >>> get_complement('C')\n",
    "    'G'\n",
    "    \"\"\"\n",
    "    # TODO: implement this\n",
    "    \n",
    "    \n",
    "    if nucleotide == \"A\":\n",
    "        return \"T\"\n",
    "    elif nucleotide == \"C\":\n",
    "        return \"G\"\n",
    "    elif nucleotide == \"T\":\n",
    "        return \"A\"\n",
    "    elif nucleotide == \"G\":\n",
    "        return \"C\"\n",
    "    else:\n",
    "        return \"Not a nucleotide\"\n",
    "\n",
    "\n",
    "print(get_complement(\"X\"))"
   ]
  },
  {
   "cell_type": "code",
   "execution_count": 32,
   "metadata": {},
   "outputs": [
    {
     "ename": "AttributeError",
     "evalue": "'str' object has no attribute 'reverse'",
     "output_type": "error",
     "traceback": [
      "\u001b[0;31m---------------------------------------------------------------------------\u001b[0m",
      "\u001b[0;31mAttributeError\u001b[0m                            Traceback (most recent call last)",
      "\u001b[0;32m<ipython-input-32-1d24970fdeb3>\u001b[0m in \u001b[0;36m<module>\u001b[0;34m\u001b[0m\n\u001b[1;32m      4\u001b[0m \u001b[0mlist1\u001b[0m \u001b[0;34m=\u001b[0m \u001b[0;34m\"\"\u001b[0m\u001b[0;34m.\u001b[0m\u001b[0mjoin\u001b[0m\u001b[0;34m(\u001b[0m\u001b[0mcomplement\u001b[0m\u001b[0;34m[\u001b[0m\u001b[0mletter\u001b[0m\u001b[0;34m]\u001b[0m \u001b[0;32mfor\u001b[0m \u001b[0mletter\u001b[0m \u001b[0;32min\u001b[0m \u001b[0moriginal\u001b[0m\u001b[0;34m)\u001b[0m\u001b[0;34m\u001b[0m\u001b[0;34m\u001b[0m\u001b[0m\n\u001b[1;32m      5\u001b[0m \u001b[0;34m\u001b[0m\u001b[0m\n\u001b[0;32m----> 6\u001b[0;31m \u001b[0mlist2\u001b[0m \u001b[0;34m=\u001b[0m \u001b[0mlist1\u001b[0m\u001b[0;34m.\u001b[0m\u001b[0mreverse\u001b[0m\u001b[0;34m(\u001b[0m\u001b[0;34m)\u001b[0m\u001b[0;34m\u001b[0m\u001b[0;34m\u001b[0m\u001b[0m\n\u001b[0m\u001b[1;32m      7\u001b[0m \u001b[0;34m\u001b[0m\u001b[0m\n\u001b[1;32m      8\u001b[0m \u001b[0mprint\u001b[0m\u001b[0;34m(\u001b[0m\u001b[0mlist2\u001b[0m\u001b[0;34m)\u001b[0m\u001b[0;34m\u001b[0m\u001b[0;34m\u001b[0m\u001b[0m\n",
      "\u001b[0;31mAttributeError\u001b[0m: 'str' object has no attribute 'reverse'"
     ]
    }
   ],
   "source": [
    "complement = {'A': 'T', 'C': 'G', 'T': 'A', 'G': 'C'}\n",
    "original = \"ATCGTCA\"\n",
    "\n",
    "list1 = [\"\".join(complement[letter] for letter in original)]\n",
    "\n",
    "list2 = list1.reverse()\n",
    "\n",
    "print(list2)"
   ]
  },
  {
   "cell_type": "code",
   "execution_count": 9,
   "metadata": {},
   "outputs": [],
   "source": [
    "def get_reverse_complement(dna):\n",
    "    \"\"\" Computes the reverse complementary sequence of DNA for the specfied DNA\n",
    "        sequence\n",
    "\n",
    "        dna: a DNA sequence represented as a string\n",
    "        returns: the reverse complementary DNA sequence represented as a string\n",
    "    >>> get_reverse_complement(\"ATGCCCGCTTT\")\n",
    "    'AAAGCGGGCAT'\n",
    "    >>> get_reverse_complement(\"CCGCGTTCA\")\n",
    "    'TGAACGCGG'\n",
    "    \"\"\"\n",
    "    # TODO: implement this\n",
    "    \n",
    "    \n",
    "    "
   ]
  },
  {
   "cell_type": "code",
   "execution_count": null,
   "metadata": {},
   "outputs": [],
   "source": []
  }
 ],
 "metadata": {
  "kernelspec": {
   "display_name": "Python 3",
   "language": "python",
   "name": "python3"
  },
  "language_info": {
   "codemirror_mode": {
    "name": "ipython",
    "version": 3
   },
   "file_extension": ".py",
   "mimetype": "text/x-python",
   "name": "python",
   "nbconvert_exporter": "python",
   "pygments_lexer": "ipython3",
   "version": "3.8.5"
  }
 },
 "nbformat": 4,
 "nbformat_minor": 4
}
