{
 "cells": [
  {
   "cell_type": "code",
   "execution_count": 6,
   "metadata": {},
   "outputs": [],
   "source": [
    "import random\n",
    "from amino_acids import aa, codons, aa_table   # you may find these useful\n",
    "from load import load_seq"
   ]
  },
  {
   "cell_type": "code",
   "execution_count": 3,
   "metadata": {},
   "outputs": [],
   "source": [
    "def shuffle_string(s):\n",
    "    \"\"\"Shuffles the characters in the input string\n",
    "        NOTE: this is a helper function, you do not\n",
    "        have to modify this in any way \"\"\"\n",
    "    return ''.join(random.sample(s, len(s)))\n",
    "\n",
    "# YOU WILL START YOUR IMPLEMENTATION FROM HERE DOWN ###\n"
   ]
  },
  {
   "cell_type": "code",
   "execution_count": 6,
   "metadata": {},
   "outputs": [
    {
     "name": "stdout",
     "output_type": "stream",
     "text": [
      "Not a nucleotide\n"
     ]
    }
   ],
   "source": [
    "def get_complement(nucleotide):\n",
    "    \"\"\" Returns the complementary nucleotide\n",
    "\n",
    "        nucleotide: a nucleotide (A, C, G, or T) represented as a string\n",
    "        returns: the complementary nucleotide\n",
    "    >>> get_complement('A')\n",
    "    'T'\n",
    "    >>> get_complement('C')\n",
    "    'G'\n",
    "    \"\"\"\n",
    "    # TODO: implement this\n",
    "    \n",
    "    \n",
    "    if nucleotide == \"A\":\n",
    "        return \"T\"\n",
    "    elif nucleotide == \"C\":\n",
    "        return \"G\"\n",
    "    elif nucleotide == \"T\":\n",
    "        return \"A\"\n",
    "    elif nucleotide == \"G\":\n",
    "        return \"C\"\n",
    "    else:\n",
    "        return \"Not a nucleotide\"\n",
    "\n",
    "\n",
    "print(get_complement(\"W\"))"
   ]
  },
  {
   "cell_type": "code",
   "execution_count": 26,
   "metadata": {},
   "outputs": [
    {
     "name": "stdout",
     "output_type": "stream",
     "text": [
      "['TAGCAGT']\n",
      "TGACGAT\n"
     ]
    }
   ],
   "source": [
    "complement = {'A': 'T', 'C': 'G', 'T': 'A', 'G': 'C'}\n",
    "original = \"ATCGTCA\"\n",
    "\n",
    "list1 = [\"\".join(complement[letter] for letter in original)]\n",
    "\n",
    "st1 = \"\"\n",
    "for i in list1:\n",
    "    st1+=i\n",
    "    \n",
    "print(st1[::-1])\n"
   ]
  },
  {
   "cell_type": "code",
   "execution_count": 6,
   "metadata": {},
   "outputs": [],
   "source": [
    "def get_reverse_complement(dna):\n",
    "    \"\"\" Computes the reverse complementary sequence of DNA for the specfied DNA\n",
    "        sequence\n",
    "\n",
    "        dna: a DNA sequence represented as a string\n",
    "        returns: the reverse complementary DNA sequence represented as a string\n",
    "    >>> get_reverse_complement(\"ATGCCCGCTTT\")\n",
    "    'AAAGCGGGCAT'\n",
    "    >>> get_reverse_complement(\"CCGCGTTCA\")\n",
    "    'TGAACGCGG'\n",
    "    \"\"\"\n",
    "    # TODO: implement this\n",
    "\n",
    "    complement = {'A': 'T', 'C': 'G', 'T': 'A', 'G': 'C'}\n",
    "#     original = \"ATCGTCA\"\n",
    "\n",
    "    list1 = [\"\".join(complement[letter] for letter in dna)]\n",
    "\n",
    "    st1 = \"\"\n",
    "    for i in list1:\n",
    "        st1+=i\n",
    "\n",
    "    return st1[::-1]\n"
   ]
  },
  {
   "cell_type": "code",
   "execution_count": 5,
   "metadata": {},
   "outputs": [
    {
     "data": {
      "text/plain": [
       "'CATCGACGAT'"
      ]
     },
     "execution_count": 5,
     "metadata": {},
     "output_type": "execute_result"
    }
   ],
   "source": [
    "dna = \"ATCGTCGATG\"\n",
    "get_reverse_complement(dna)"
   ]
  },
  {
   "cell_type": "code",
   "execution_count": 29,
   "metadata": {},
   "outputs": [],
   "source": [
    "def load_seq(fasta_file):\n",
    "    \"\"\" Reads a FASTA file and returns the DNA sequence as a string.\n",
    "\n",
    "    fasta_file: the path to the FASTA file containing the DNA sequence\n",
    "    returns: the DNA sequence as a string\n",
    "    \"\"\"\n",
    "    retval = \"\"\n",
    "    f = open(fasta_file)\n",
    "    lines = f.readlines()\n",
    "    for l in lines[1:]:\n",
    "        retval += l[0:-1]\n",
    "    f.close()\n",
    "    return retval"
   ]
  },
  {
   "cell_type": "code",
   "execution_count": 14,
   "metadata": {},
   "outputs": [
    {
     "name": "stdout",
     "output_type": "stream",
     "text": [
      "/home/eanbit11/mini-project-marionnyaboke\n"
     ]
    }
   ],
   "source": [
    "!pwd\n"
   ]
  },
  {
   "cell_type": "code",
   "execution_count": 35,
   "metadata": {},
   "outputs": [],
   "source": [
    "# dna = load_seq(\"data/X73525.fa\")\n",
    "with open(\"reversed_dna\", \"w+\") as wf:\n",
    "    wf.writelines(get_reverse_complement(load_seq(\"data/X73525.fa\")))"
   ]
  },
  {
   "cell_type": "code",
   "execution_count": null,
   "metadata": {},
   "outputs": [],
   "source": [
    "def rest_of_ORF(dna):\n",
    "    \"\"\" Takes a DNA sequence that is assumed to begin with a start\n",
    "        codon and returns the sequence up to but not including the\n",
    "        first in frame stop codon.  If there is no in frame stop codon,\n",
    "        returns the whole string.\n",
    "\n",
    "        dna: a DNA sequence\n",
    "        returns: the open reading frame represented as a string\n",
    "    >>> rest_of_ORF(\"ATGTGAA\")\n",
    "    'ATG'\n",
    "    >>> rest_of_ORF(\"ATGAGATAGG\")\n",
    "    'ATGAGA'\n",
    "    \"\"\"\n",
    "    # TODO: implement this\n",
    "    \n",
    "    "
   ]
  },
  {
   "cell_type": "code",
   "execution_count": 13,
   "metadata": {},
   "outputs": [
    {
     "name": "stdout",
     "output_type": "stream",
     "text": [
      "ORF IS ----> ['ATG', 'AGA', 'TAG', 'TAA', 'G'] \n",
      "\n",
      "All stop codons in this orf ----> ['TAG', 'TAA'] \n",
      "\n",
      "ATGAGA\n"
     ]
    }
   ],
   "source": [
    "# ORF1 CODE\n",
    "dna = \"ATGAGATAGTAAG\"\n",
    "Orf1 = []\n",
    "\n",
    "for i in range(0, len(dna), 3 ):\n",
    "    Orf1.append( dna[0+int(i):3+int(i)] )\n",
    "print(\"ORF IS ---->\", Orf1, \"\\n\")\n",
    "\n",
    "lis = []\n",
    "\n",
    "stops = ['TAG', 'TAA', 'TGA']\n",
    "\n",
    "for i in stops:\n",
    "    if i in Orf1:\n",
    "        lis.append(i)\n",
    "\n",
    "print(\"All stop codons in this orf ---->\", lis, \"\\n\")\n",
    "\n",
    "indexs_stops = []\n",
    "\n",
    "for i in lis:\n",
    "    indexs_stops.append(int(Orf1.index(i)))\n",
    "sorted_indexs_stops = sorted(indexs_stops)\n",
    "\n",
    "               \n",
    "start = (Orf1.index(\"ATG\")) #start index\n",
    "\n",
    "if len(sorted_indexs_stops) > 1:\n",
    "    stop = sorted_indexs_stops[0]#stop index\n",
    "    print(\"\".join(Orf1[start:stop]))\n",
    "else:\n",
    "    print(\"\".join(Orf1[start:]))"
   ]
  },
  {
   "cell_type": "code",
   "execution_count": 3,
   "metadata": {},
   "outputs": [
    {
     "name": "stdout",
     "output_type": "stream",
     "text": [
      "['TGA', 'GAT', 'AGG', '']\n",
      "No stop codon found 🤯\n"
     ]
    }
   ],
   "source": [
    "try:\n",
    "    dna = \"ATGAGATAGG\"\n",
    "    Orf2 = []\n",
    "\n",
    "    for i in range(0, len(dna), 3 ):\n",
    "        Orf2.append( dna[1+int(i):4+int(i)] )\n",
    "    print(Orf2)\n",
    "    print(Orf2.index(\"TAG\"))\n",
    "\n",
    "except ValueError:\n",
    "    print(\"No stop codon found 🤯\")\n",
    "\n",
    "    # start = 'ATG'\n",
    "    # stop = ['TAG', 'TAA', 'TGA']"
   ]
  },
  {
   "cell_type": "code",
   "execution_count": 8,
   "metadata": {},
   "outputs": [
    {
     "name": "stdout",
     "output_type": "stream",
     "text": [
      "['GAG', 'ATA', 'GG', '']\n",
      "No stop codon found 🤯\n"
     ]
    }
   ],
   "source": [
    "try:\n",
    "    dna = \"ATGAGATAGG\"\n",
    "    Orf3 = []\n",
    "\n",
    "    for i in range(0, len(dna), 3 ):\n",
    "        Orf3.append( dna[2+int(i):5+int(i)] )\n",
    "    print(Orf3)\n",
    "    print(Orf3.index(\"TAG\"))\n",
    "    \n",
    "except ValueError:\n",
    "    print(\"No stop codon found 🤯\")\n",
    "\n",
    "# start = 'ATG'\n",
    "# stop = ['TAG', 'TAA', 'TGA']"
   ]
  },
  {
   "cell_type": "code",
   "execution_count": 7,
   "metadata": {},
   "outputs": [
    {
     "name": "stdout",
     "output_type": "stream",
     "text": [
      "['CCT', 'ATC', 'TCA', 'T']\n",
      "No stop codon found 🤯\n"
     ]
    }
   ],
   "source": [
    "try:\n",
    "    dna = \"ATGAGATAGG\"\n",
    "    Revers = get_reverse_complement(dna)\n",
    "\n",
    "    Orf4 = []\n",
    "\n",
    "    for i in range(0, len(dna), 3 ):\n",
    "        Orf4.append( Revers[0+int(i):3+int(i)] )\n",
    "    print(Orf4)\n",
    "    print(Orf4.index(\"TAG\"))\n",
    "    \n",
    "except ValueError:\n",
    "    print(\"No stop codon found 🤯\")\n",
    "# start = 'ATG'\n",
    "# stop = ['TAG', 'TAA', 'TGA']"
   ]
  },
  {
   "cell_type": "code",
   "execution_count": 9,
   "metadata": {},
   "outputs": [
    {
     "name": "stdout",
     "output_type": "stream",
     "text": [
      "['CTA', 'TCT', 'CAT', '']\n",
      "No stop codon found 🤯\n"
     ]
    }
   ],
   "source": [
    "try:\n",
    "    dna = \"ATGAGATAGG\"\n",
    "    Revers = get_reverse_complement(dna)\n",
    "\n",
    "    Orf5 = []\n",
    "\n",
    "    for i in range(0, len(dna), 3 ):\n",
    "        Orf5.append( Revers[1+int(i):4+int(i)] )\n",
    "    print(Orf5)\n",
    "    print(Orf5.index(\"TAG\"))\n",
    "    \n",
    "except ValueError:\n",
    "    print(\"No stop codon found 🤯\")\n",
    "    \n",
    "# start = 'ATG'\n",
    "# stop = ['TAG', 'TAA', 'TGA']"
   ]
  },
  {
   "cell_type": "code",
   "execution_count": 10,
   "metadata": {},
   "outputs": [
    {
     "name": "stdout",
     "output_type": "stream",
     "text": [
      "['TAT', 'CTC', 'AT', '']\n",
      "No stop codon found 🤯\n"
     ]
    }
   ],
   "source": [
    "try:\n",
    "    dna = \"ATGAGATAGG\"\n",
    "    Revers = get_reverse_complement(dna)\n",
    "\n",
    "    Orf6 = []\n",
    "\n",
    "    for i in range(0, len(dna), 3 ):\n",
    "        Orf6.append( Revers[2+int(i):5+int(i)] )\n",
    "    print(Orf6)\n",
    "    print(Orf6.index(\"TAG\"))\n",
    "    \n",
    "except ValueError:\n",
    "    print(\"No stop codon found 🤯\")\n",
    "    \n",
    "# start = 'ATG'\n",
    "# stop = ['TAG', 'TAA', 'TGA']"
   ]
  },
  {
   "cell_type": "code",
   "execution_count": null,
   "metadata": {},
   "outputs": [],
   "source": [
    "def find_all_ORFs_oneframe(dna):\n",
    "    \"\"\" Finds all non-nested open reading frames in the given DNA\n",
    "        sequence and returns them as a list.  This function should\n",
    "        only find ORFs that are in the default frame of the sequence\n",
    "        (i.e. they start on indices that are multiples of 3).\n",
    "        By non-nested we mean that if an ORF occurs entirely within\n",
    "        another ORF, it should not be included in the returned list of ORFs.\n",
    "\n",
    "        dna: a DNA sequence\n",
    "        returns: a list of non-nested ORFs\n",
    "    >>> find_all_ORFs_oneframe(\"ATGCATGAATGTAGATAGATGTGCCC\")\n",
    "    ['ATGCATGAATGTAG', 'ATGTGCCC']\n",
    "    \"\"\"\n",
    "    # TODO: implement this\n",
    "    pass"
   ]
  },
  {
   "cell_type": "code",
   "execution_count": 1,
   "metadata": {},
   "outputs": [
    {
     "name": "stdout",
     "output_type": "stream",
     "text": [
      "['ATG', 'AAT', 'CCT', 'GGT', 'ATG', 'TTT', 'CCC', 'TAA', 'GGG', 'AAA', 'TGA', 'TGA']\n",
      "[0, 4] \n",
      "\n",
      "All stop codons in this orf ----> ['TAA', 'TGA'] \n",
      "\n",
      "[7, 10]\n",
      "['ATGAATCCTGGTATGTTTCCC']\n",
      "['ATGTTTCCCTAAGGGAAA']\n"
     ]
    }
   ],
   "source": [
    "dna = \"ATGAATCCTGGTATGTTTCCCTAAGGGAAATGA\"\n",
    "Orf1 = []\n",
    "\n",
    "for i in range(0, len(dna), 3 ):\n",
    "    Orf1.append( dna[0+int(i):3+int(i)] )\n",
    "print(Orf1)\n",
    "\n",
    "#find all start codons and index\n",
    "start_at = -1\n",
    "indexs_start = []\n",
    "while True:\n",
    "    try:\n",
    "        loc = Orf1.index(\"ATG\",start_at+1)\n",
    "    except ValueError:\n",
    "        break\n",
    "    else:\n",
    "        indexs_start.append(loc)\n",
    "        start_at = loc\n",
    "\n",
    "print(indexs_start, \"\\n\")\n",
    "\n",
    "#find all stop codons\n",
    "all_stops = []\n",
    "\n",
    "stops = ['TAG', 'TAA', 'TGA']\n",
    "\n",
    "for i in stops:\n",
    "    if i in Orf1:\n",
    "        all_stops.append(i)\n",
    "\n",
    "print(\"All stop codons in this orf ---->\", all_stops, \"\\n\")\n",
    "\n",
    "indexs_stops = []\n",
    "\n",
    "for i in stops:\n",
    "    if i in Orf1:\n",
    "        indexs_stops.append(int(Orf1.index(i)))\n",
    "\n",
    "print (indexs_stops)\n",
    "\n",
    "for i, j in zip(indexs_start, indexs_stops):\n",
    "      print([\"\".join(Orf1[i:j])])\n",
    "\n"
   ]
  },
  {
   "cell_type": "code",
   "execution_count": null,
   "metadata": {},
   "outputs": [],
   "source": [
    "def find_all_ORFs(dna):\n",
    "    \"\"\" Finds all non-nested open reading frames in the given DNA sequence in\n",
    "        all 3 possible frames and returns them as a list.  By non-nested we\n",
    "        mean that if an ORF occurs entirely within another ORF and they are\n",
    "        both in the same frame, it should not be included in the returned list\n",
    "        of ORFs.\n",
    "\n",
    "        dna: a DNA sequence\n",
    "        returns: a list of non-nested ORFs\n",
    "\n",
    "    >>> find_all_ORFs(\"ATGCATGAATGTAG\")\n",
    "    ['ATGCATGAATGTAG', 'ATGAATGTAG', 'ATG']\n",
    "    \"\"\"\n",
    "    # TODO: implement this\n",
    "    pass"
   ]
  },
  {
   "cell_type": "code",
   "execution_count": 7,
   "metadata": {},
   "outputs": [
    {
     "name": "stdout",
     "output_type": "stream",
     "text": [
      "ORF1 IS ----> ['CCC', 'ATG', 'AGA', 'TAG', 'TAT', 'ATG', 'GTG', 'AAA', 'TGG'] \n",
      "\n",
      "ORF2 IS ----> ['CCA', 'TGA', 'GAT', 'AGT', 'ATA', 'TGG', 'TGA', 'AAT', 'GG'] \n",
      "\n",
      "ORF3 IS ----> ['CAT', 'GAG', 'ATA', 'GTA', 'TAT', 'GGT', 'GAA', 'ATG', 'G'] \n",
      "\n",
      "['ATGAGATAGTATATGGTGAAATGG', 'ATGGTGAAATGG']\n",
      "[]\n",
      "['ATGG']\n"
     ]
    }
   ],
   "source": [
    "# ORF1 \n",
    "dna = \"CCCATGAGATAGTATATGGTGAAATGG\"\n",
    "Orf1 = []\n",
    "\n",
    "for i in range(0, len(dna), 3 ):\n",
    "    Orf1.append( dna[0+int(i):3+int(i)] )\n",
    "print(\"ORF1 IS ---->\", Orf1, \"\\n\")\n",
    "\n",
    "#ORF2\n",
    "\n",
    "Orf2 = []\n",
    "\n",
    "for i in range(0, len(dna), 3 ):\n",
    "    Orf2.append( dna[1+int(i):4+int(i)] )\n",
    "print(\"ORF2 IS ---->\", Orf2, \"\\n\")\n",
    "\n",
    "#ORF3\n",
    "\n",
    "Orf3 = []\n",
    "\n",
    "for i in range(0, len(dna), 3 ):\n",
    "    Orf3.append( dna[2+int(i):5+int(i)] )\n",
    "print(\"ORF3 IS ---->\", Orf3, \"\\n\")\n",
    "\n",
    "\n",
    "all_orfs = [Orf1, Orf2, Orf3]\n",
    "\n",
    "for rf in all_orfs:\n",
    "\n",
    "    start_at = -1\n",
    "    indexs_start = []\n",
    "\n",
    "    while True:\n",
    "\n",
    "        try:\n",
    "            loc = rf.index(\"ATG\",start_at+1)\n",
    "        except ValueError:\n",
    "            break\n",
    "        else:\n",
    "            indexs_start.append(loc)\n",
    "            start_at = loc\n",
    "\n",
    "    nest_list = []\n",
    "    for i in indexs_start:\n",
    "        nest_list.append(\"\".join(rf[i:]))\n",
    "    print(nest_list)"
   ]
  },
  {
   "cell_type": "code",
   "execution_count": null,
   "metadata": {},
   "outputs": [],
   "source": [
    "def find_all_ORFs_both_strands(dna):\n",
    "    \"\"\" Finds all non-nested open reading frames in the given DNA sequence on both\n",
    "        strands.\n",
    "\n",
    "        dna: a DNA sequence\n",
    "        returns: a list of non-nested ORFs\n",
    "    >>> find_all_ORFs_both_strands(\"ATGCGAATGTAGCATCAAA\")\n",
    "    ['ATGCGAATG', 'ATGCTACATTCGCAT']\n",
    "    \"\"\"\n",
    "    # TODO: implement this\n",
    "    pass\n"
   ]
  },
  {
   "cell_type": "code",
   "execution_count": 9,
   "metadata": {},
   "outputs": [],
   "source": [
    "def get_reverse_complement(dna):\n",
    "    \"\"\" Computes the reverse complementary sequence of DNA for the specfied DNA\n",
    "        sequence\n",
    "\n",
    "        dna: a DNA sequence represented as a string\n",
    "        returns: the reverse complementary DNA sequence represented as a string\n",
    "    >>> get_reverse_complement(\"ATGCCCGCTTT\")\n",
    "    'AAAGCGGGCAT'\n",
    "    >>> get_reverse_complement(\"CCGCGTTCA\")\n",
    "    'TGAACGCGG'\n",
    "    \"\"\"\n",
    "    # TODO: implement this\n",
    "\n",
    "    complement = {'A': 'T', 'C': 'G', 'T': 'A', 'G': 'C'}\n",
    "#     original = \"ATCGTCA\"\n",
    "\n",
    "    list1 = [\"\".join(complement[letter] for letter in dna)]\n",
    "\n",
    "    st1 = \"\"\n",
    "    for i in list1:\n",
    "        st1+=i\n",
    "\n",
    "    return st1[::-1]\n",
    "\n",
    "\n",
    "def get_orfs(dna):\n",
    "        # ORF1 \n",
    "    Orf1 = []\n",
    "\n",
    "    for i in range(0, len(dna), 3 ):\n",
    "        Orf1.append( dna[0+int(i):3+int(i)] )\n",
    "    print(\"ORF1 IS ---->\", Orf1, \"\\n\")\n",
    "\n",
    "    #ORF2\n",
    "\n",
    "    Orf2 = []\n",
    "\n",
    "    for i in range(0, len(dna), 3 ):\n",
    "        Orf2.append( dna[1+int(i):4+int(i)] )\n",
    "    print(\"ORF2 IS ---->\", Orf2, \"\\n\")\n",
    "\n",
    "    #ORF3\n",
    "\n",
    "    Orf3 = []\n",
    "\n",
    "    for i in range(0, len(dna), 3 ):\n",
    "        Orf3.append( dna[2+int(i):5+int(i)] )\n",
    "    print(\"ORF3 IS ---->\", Orf3, \"\\n\")\n",
    "\n",
    "    \n",
    "    rev_dna = get_reverse_complement(dna)\n",
    "    \n",
    "    #ORF4\n",
    "    Orf4 = []\n",
    "\n",
    "    for i in range(0, len(rev_dna), 3 ):\n",
    "        Orf4.append( rev_dna[0+int(i):3+int(i)] )\n",
    "    print(\"ORF4 IS ---->\", Orf4, \"\\n\")\n",
    "\n",
    "    #ORF5\n",
    "\n",
    "    Orf5 = []\n",
    "\n",
    "    for i in range(0, len(rev_dna), 3 ):\n",
    "        Orf5.append( rev_dna[1+int(i):4+int(i)] )\n",
    "    print(\"ORF5 IS ---->\", Orf5, \"\\n\")\n",
    "\n",
    "    #ORF6\n",
    "\n",
    "    Orf6 = []\n",
    "\n",
    "    for i in range(0, len(rev_dna), 3 ):\n",
    "        Orf6.append( rev_dna[2+int(i):5+int(i)] )\n",
    "    print(\"ORF6 IS ---->\", Orf6, \"\\n\")\n",
    "\n",
    "    \n",
    "    \n",
    "    all_orfs = [Orf1, Orf2, Orf3, Orf4, Orf5, Orf6]\n",
    "    print(all_orfs)\n"
   ]
  },
  {
   "cell_type": "code",
   "execution_count": 5,
   "metadata": {},
   "outputs": [
    {
     "name": "stdout",
     "output_type": "stream",
     "text": [
      "ORF1 IS ----> ['ATG', 'CGA', 'ATG', 'TAG', 'CAT', 'CAA', 'A'] \n",
      "\n",
      "ORF2 IS ----> ['TGC', 'GAA', 'TGT', 'AGC', 'ATC', 'AAA', ''] \n",
      "\n",
      "ORF3 IS ----> ['GCG', 'AAT', 'GTA', 'GCA', 'TCA', 'AA', ''] \n",
      "\n",
      "ORF4 IS ----> ['TTT', 'GAT', 'GCT', 'ACA', 'TTC', 'GCA', 'T'] \n",
      "\n",
      "ORF5 IS ----> ['TTG', 'ATG', 'CTA', 'CAT', 'TCG', 'CAT', ''] \n",
      "\n",
      "ORF6 IS ----> ['TGA', 'TGC', 'TAC', 'ATT', 'CGC', 'AT', ''] \n",
      "\n",
      "['ATGCGAATGTAGCATCAAA', 'ATGTAGCATCAAA']\n",
      "[]\n",
      "[]\n",
      "[]\n",
      "['ATGCTACATTCGCAT']\n",
      "[]\n"
     ]
    }
   ],
   "source": [
    "# All six reading frames nests\n",
    "dna = \"ATGCGAATGTAGCATCAAA\"\n",
    "\n",
    "for rf in get_orfs(dna):\n",
    "    start_at = -1\n",
    "    indexs_start = []\n",
    "\n",
    "    while True:\n",
    "\n",
    "        try:\n",
    "            loc = rf.index(\"ATG\",start_at+1)\n",
    "        except ValueError:\n",
    "            break\n",
    "        else:\n",
    "            indexs_start.append(loc)\n",
    "            start_at = loc\n",
    "\n",
    "    nest_list = []\n",
    "    for i in indexs_start:\n",
    "        nest_list.append(\"\".join(rf[i:]))\n",
    "    print(nest_list)"
   ]
  },
  {
   "cell_type": "code",
   "execution_count": null,
   "metadata": {},
   "outputs": [],
   "source": [
    "def longest_ORF(dna):\n",
    "    \"\"\" Finds the longest ORF on both strands of the specified DNA and returns it\n",
    "        as a string\n",
    "    >>> longest_ORF(\"ATGCGAATGTAGCATCAAA\")\n",
    "    'ATGCTACATTCGCAT'\n",
    "    \"\"\"\n",
    "    # TODO: implement this\n",
    "    pass\n"
   ]
  },
  {
   "cell_type": "code",
   "execution_count": 4,
   "metadata": {},
   "outputs": [
    {
     "name": "stdout",
     "output_type": "stream",
     "text": [
      "ATGCTACATTCGCAT\n"
     ]
    }
   ],
   "source": [
    "import re\n",
    "\n",
    "dna = \"ATGCGAATGTAGCATCAAA\"\n",
    "\n",
    "if \"TAG\" in dna or \"TAA\" in dna or \"TGA\" in dna:\n",
    "    f = (max(re.findall(r'ATG(?:(?!TAA|TAG|TGA)...)*(?:TAA|TAG|TGA)',dna), key = len))\n",
    "else:\n",
    "    f = (max(re.findall(r'ATG(?:...)*(?:.*)',dna), key = len))\n",
    "    \n",
    "revers = get_reverse_complement(dna)\n",
    "\n",
    "if \"TAG\" in revers or \"TAA\" in revers or \"TGA\" in revers:\n",
    "    r = (max(re.findall(r'ATG(?:...)*(?:.*)',revers), key = len))\n",
    "          \n",
    "else:\n",
    "    r= (max(re.findall(r'ATG(?:(?!TAA|TAG|TGA)...)*(?:TAA|TAG|TGA)',revers), key = len))\n",
    "\n",
    "\n",
    "if len(f) > len(r):\n",
    "    print (f)\n",
    "\n",
    "else:\n",
    "    print (r)\n",
    "    "
   ]
  },
  {
   "cell_type": "code",
   "execution_count": null,
   "metadata": {},
   "outputs": [],
   "source": [
    "def longest_ORF_noncoding(dna, num_trials):\n",
    "    \"\"\" Computes the maximum length of the longest ORF over num_trials shuffles\n",
    "        of the specfied DNA sequence\n",
    "\n",
    "        dna: a DNA sequence\n",
    "        num_trials: the number of random shuffles\n",
    "        returns: the maximum length longest ORF \"\"\"\n",
    "    # TODO: implement this\n",
    "    pass\n"
   ]
  },
  {
   "cell_type": "code",
   "execution_count": 12,
   "metadata": {},
   "outputs": [
    {
     "ename": "NameError",
     "evalue": "name 'r' is not defined",
     "output_type": "error",
     "traceback": [
      "\u001b[0;31m---------------------------------------------------------------------------\u001b[0m",
      "\u001b[0;31mNameError\u001b[0m                                 Traceback (most recent call last)",
      "\u001b[0;32m<ipython-input-12-fb78c09c96b0>\u001b[0m in \u001b[0;36m<module>\u001b[0;34m\u001b[0m\n\u001b[1;32m     20\u001b[0m \u001b[0;34m\u001b[0m\u001b[0m\n\u001b[1;32m     21\u001b[0m \u001b[0;34m\u001b[0m\u001b[0m\n\u001b[0;32m---> 22\u001b[0;31m     \u001b[0;32mif\u001b[0m \u001b[0mlen\u001b[0m\u001b[0;34m(\u001b[0m\u001b[0mf\u001b[0m\u001b[0;34m)\u001b[0m \u001b[0;34m>\u001b[0m \u001b[0mlen\u001b[0m\u001b[0;34m(\u001b[0m\u001b[0mr\u001b[0m\u001b[0;34m)\u001b[0m\u001b[0;34m:\u001b[0m\u001b[0;34m\u001b[0m\u001b[0;34m\u001b[0m\u001b[0m\n\u001b[0m\u001b[1;32m     23\u001b[0m         \u001b[0mlongest_orf_shuffled\u001b[0m\u001b[0;34m.\u001b[0m\u001b[0mappend\u001b[0m\u001b[0;34m(\u001b[0m\u001b[0mf\u001b[0m\u001b[0;34m)\u001b[0m\u001b[0;34m\u001b[0m\u001b[0;34m\u001b[0m\u001b[0m\n\u001b[1;32m     24\u001b[0m     \u001b[0;32melse\u001b[0m\u001b[0;34m:\u001b[0m\u001b[0;34m\u001b[0m\u001b[0;34m\u001b[0m\u001b[0m\n",
      "\u001b[0;31mNameError\u001b[0m: name 'r' is not defined"
     ]
    }
   ],
   "source": [
    "import random\n",
    "import re\n",
    "\n",
    "longest_orf_shuffled =[]\n",
    "for iteration in range(1000):\n",
    "#     print(iteration)\n",
    "    s=\"ATGCGAATGTAGCATCAAACAAGAAGGATTGACAATCT\"\n",
    "    dna = ''.join(random.sample(s,len(s)))\n",
    "\n",
    "    \n",
    "    if \"ATG\" in dna:\n",
    "        f = (max(re.findall(r'ATG(?:...)*(?:.*)',dna), key = len))\n",
    "\n",
    "\n",
    "        \n",
    "    revers = get_reverse_complement(dna)\n",
    "\n",
    "    if \"ATG\" in revers:\n",
    "        r = (max(re.findall(r'ATG(?:...)*(?:.*)',revers), key = len))\n",
    "\n",
    "\n",
    "    if len(f) > len(r):\n",
    "        longest_orf_shuffled.append(f)\n",
    "    else:\n",
    "        longest_orf_shuffled.append(r)\n",
    "\n",
    "max(longest_orf_shuffled, key=len)"
   ]
  },
  {
   "cell_type": "code",
   "execution_count": null,
   "metadata": {},
   "outputs": [],
   "source": [
    "def coding_strand_to_AA(dna):\n",
    "    \"\"\" Computes the Protein encoded by a sequence of DNA.  This function\n",
    "        does not check for start and stop codons (it assumes that the input\n",
    "        DNA sequence represents an protein coding region).\n",
    "\n",
    "        dna: a DNA sequence represented as a string\n",
    "        returns: a string containing the sequence of amino acids encoded by the\n",
    "                 the input DNA fragment\n",
    "\n",
    "        >>> coding_strand_to_AA(\"ATGCGA\")\n",
    "        'MR'\n",
    "        >>> coding_strand_to_AA(\"ATGCCCGCTTT\")\n",
    "        'MPA'\n",
    "    \"\"\"\n",
    "    # TODO: implement this\n",
    "    pass"
   ]
  },
  {
   "cell_type": "code",
   "execution_count": 3,
   "metadata": {},
   "outputs": [
    {
     "name": "stdout",
     "output_type": "stream",
     "text": [
      "ORF IS ----> ['ATG', 'AAG', 'CAT', 'TAA', 'ACC', 'ACA', 'AAG', 'ATG', 'TGT', 'AGA', 'TGA', 'GCA', 'CT'] \n",
      "\n",
      "MKH|\n"
     ]
    }
   ],
   "source": [
    "aa = ['F', 'L', 'I', 'M', 'V', 'S', 'P', 'T', 'A', 'Y',\n",
    "      '|', 'H', 'Q', 'N', 'K', 'D', 'E', 'C', 'W', 'R',\n",
    "      'G']\n",
    "\n",
    "codons = [['TTT', 'TTC'],\n",
    "          ['TTA', 'TTG', 'CTT', 'CTC', 'CTA', 'CTG'],\n",
    "          ['ATT', 'ATC', 'ATA'],\n",
    "          ['ATG'],\n",
    "          ['GTT', 'GTC', 'GTA', 'GTG'],\n",
    "          ['TCT', 'TCC', 'TCA', 'TCG', 'AGT', 'AGC'],\n",
    "          ['CCT', 'CCC', 'CCA', 'CCG'],\n",
    "          ['ACT', 'ACC', 'ACA', 'ACG'],\n",
    "          ['GCT', 'GCC', 'GCA', 'GCG'],\n",
    "          ['TAT', 'TAC'],\n",
    "          ['TAA', 'TAG', 'TGA'],\n",
    "          ['CAT', 'CAC'],\n",
    "          ['CAA', 'CAG'],\n",
    "          ['AAT', 'AAC'],\n",
    "          ['AAA', 'AAG'],\n",
    "          ['GAT', 'GAC'],\n",
    "          ['GAA', 'GAG'],\n",
    "          ['TGT', 'TGC'],\n",
    "          ['TGG'],\n",
    "          ['CGT', 'CGC', 'CGA', 'CGG', 'AGA', 'AGG'],\n",
    "          ['GGT', 'GGC', 'GGA', 'GGG']]\n",
    "\n",
    "# create a dictionary lookup table for mapping codons into amino acids\n",
    "aa_table = {}\n",
    "for i in range(len(aa)):\n",
    "    for codon in codons[i]:\n",
    "        aa_table[codon] = aa[i]\n",
    "        \n",
    "#     print (aa_table)\n",
    "    \n",
    "dna = 'ATGAAGCATTAAACCACAAAGATGTGTAGATGAGCACT'\n",
    "Orf = []\n",
    "\n",
    "for i in range(0, len(dna), 3 ):\n",
    "    Orf.append( dna[0+int(i):3+int(i)] )\n",
    "print(\"ORF IS ---->\", Orf, \"\\n\")\n",
    "\n",
    "count = 0\n",
    "amino_seq = (''.join([aa_table[dna[pos:pos + 3]] for pos in range (count, len(Orf) -2, 3)]))\n",
    "print(amino_seq)\n"
   ]
  },
  {
   "cell_type": "code",
   "execution_count": null,
   "metadata": {},
   "outputs": [],
   "source": [
    "def gene_finder(dna):\n",
    "    \"\"\" Returns the amino acid sequences that are likely coded by the specified dna\n",
    "\n",
    "        dna: a DNA sequence\n",
    "        returns: a list of all amino acid sequences coded by the sequence dna.\n",
    "    \"\"\"\n",
    "    # TODO: implement this\n",
    "    pass"
   ]
  },
  {
   "cell_type": "code",
   "execution_count": null,
   "metadata": {},
   "outputs": [],
   "source": [
    "dna = 'ATGAAGCATTAAACCACAAAGATGTGTAGATGAGCACT'\n",
    "\n",
    "all_genes = []\n",
    "\n",
    "for i in find_all_ORFs_both_strands(dna):\n",
    "       print(all_genes.append(coding_strand_to_AA(i)))"
   ]
  },
  {
   "cell_type": "code",
   "execution_count": null,
   "metadata": {},
   "outputs": [],
   "source": []
  }
 ],
 "metadata": {
  "kernelspec": {
   "display_name": "Python 3",
   "language": "python",
   "name": "python3"
  },
  "language_info": {
   "codemirror_mode": {
    "name": "ipython",
    "version": 3
   },
   "file_extension": ".py",
   "mimetype": "text/x-python",
   "name": "python",
   "nbconvert_exporter": "python",
   "pygments_lexer": "ipython3",
   "version": "3.8.3"
  }
 },
 "nbformat": 4,
 "nbformat_minor": 4
}
