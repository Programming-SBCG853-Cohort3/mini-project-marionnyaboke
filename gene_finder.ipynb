{
 "cells": [
  {
   "cell_type": "code",
   "execution_count": 2,
   "metadata": {},
   "outputs": [],
   "source": [
    "import random\n",
    "from amino_acids import aa, codons, aa_table   # you may find these useful\n",
    "from load import load_seq"
   ]
  },
  {
   "cell_type": "code",
   "execution_count": 4,
   "metadata": {},
   "outputs": [
    {
     "ename": "NameError",
     "evalue": "name 'ABCD' is not defined",
     "output_type": "error",
     "traceback": [
      "\u001b[0;31m---------------------------------------------------------------------------\u001b[0m",
      "\u001b[0;31mNameError\u001b[0m                                 Traceback (most recent call last)",
      "\u001b[0;32m<ipython-input-4-5eaceaf6dcb6>\u001b[0m in \u001b[0;36m<module>\u001b[0;34m\u001b[0m\n\u001b[1;32m      7\u001b[0m \u001b[0;31m# YOU WILL START YOUR IMPLEMENTATION FROM HERE DOWN ###\u001b[0m\u001b[0;34m\u001b[0m\u001b[0;34m\u001b[0m\u001b[0;34m\u001b[0m\u001b[0m\n\u001b[1;32m      8\u001b[0m \u001b[0;34m\u001b[0m\u001b[0m\n\u001b[0;32m----> 9\u001b[0;31m \u001b[0mshuffle_string\u001b[0m\u001b[0;34m(\u001b[0m\u001b[0mABCD\u001b[0m\u001b[0;34m)\u001b[0m\u001b[0;34m\u001b[0m\u001b[0;34m\u001b[0m\u001b[0m\n\u001b[0m",
      "\u001b[0;31mNameError\u001b[0m: name 'ABCD' is not defined"
     ]
    }
   ],
   "source": [
    "def shuffle_string(s):\n",
    "    \"\"\"Shuffles the characters in the input string\n",
    "        NOTE: this is a helper function, you do not\n",
    "        have to modify this in any way \"\"\"\n",
    "    return ''.join(random.sample(s, len(s)))\n",
    "\n",
    "# YOU WILL START YOUR IMPLEMENTATION FROM HERE DOWN ###\n",
    "\n",
    "shuffle_string(ABCD)"
   ]
  },
  {
   "cell_type": "code",
   "execution_count": 6,
   "metadata": {},
   "outputs": [
    {
     "name": "stdout",
     "output_type": "stream",
     "text": [
      "Not a nucleotide\n"
     ]
    }
   ],
   "source": [
    "def get_complement(nucleotide):\n",
    "    \"\"\" Returns the complementary nucleotide\n",
    "\n",
    "        nucleotide: a nucleotide (A, C, G, or T) represented as a string\n",
    "        returns: the complementary nucleotide\n",
    "    >>> get_complement('A')\n",
    "    'T'\n",
    "    >>> get_complement('C')\n",
    "    'G'\n",
    "    \"\"\"\n",
    "    # TODO: implement this\n",
    "    \n",
    "    \n",
    "    if nucleotide == \"A\":\n",
    "        return \"T\"\n",
    "    elif nucleotide == \"C\":\n",
    "        return \"G\"\n",
    "    elif nucleotide == \"T\":\n",
    "        return \"A\"\n",
    "    elif nucleotide == \"G\":\n",
    "        return \"C\"\n",
    "    else:\n",
    "        return \"Not a nucleotide\"\n",
    "\n",
    "\n",
    "print(get_complement(\"X\"))"
   ]
  },
  {
   "cell_type": "code",
   "execution_count": null,
   "metadata": {},
   "outputs": [],
   "source": []
  }
 ],
 "metadata": {
  "kernelspec": {
   "display_name": "Python 3",
   "language": "python",
   "name": "python3"
  },
  "language_info": {
   "codemirror_mode": {
    "name": "ipython",
    "version": 3
   },
   "file_extension": ".py",
   "mimetype": "text/x-python",
   "name": "python",
   "nbconvert_exporter": "python",
   "pygments_lexer": "ipython3",
   "version": "3.8.5"
  }
 },
 "nbformat": 4,
 "nbformat_minor": 4
}
