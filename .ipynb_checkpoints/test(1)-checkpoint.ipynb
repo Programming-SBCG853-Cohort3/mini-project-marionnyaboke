{
 "cells": [
  {
   "cell_type": "code",
   "execution_count": null,
   "id": "governmental-dynamics",
   "metadata": {},
   "outputs": [],
   "source": [
    "dna = \"ATGAATCCTGGTATGTTTCCCTAAGGGAAATGA\"\n",
    "Orf1 = []\n",
    "\n",
    "for i in range(0, len(dna), 3 ):\n",
    "    Orf1.append( dna[0+int(i):3+int(i)] )\n",
    "print(Orf1)\n",
    "\n",
    "#find all start codons and index\n",
    "start_at = -1\n",
    "indexs_start = []\n",
    "while True:\n",
    "    try:\n",
    "        loc = Orf1.index(\"ATG\",start_at+1)\n",
    "    except ValueError:\n",
    "        break\n",
    "    else:\n",
    "        indexs_start.append(loc)\n",
    "        start_at = loc\n",
    "\n",
    "print(indexs_start, \"\\n\")\n",
    "\n",
    "#find all stop codons\n",
    "all_stops = []\n",
    "\n",
    "stops = ['TAG', 'TAA', 'TGA']\n",
    "\n",
    "for i in stops:\n",
    "    if i in Orf1:\n",
    "        all_stops.append(i)\n",
    "\n",
    "print(\"All stop codons in this orf ---->\", all_stops, \"\\n\")\n",
    "\n",
    "indexs_stops = []\n",
    "\n",
    "for i in stops:\n",
    "    if i in Orf1:\n",
    "        indexs_stops.append(int(Orf1.index(i)))\n",
    "\n",
    "print (indexs_stops)\n",
    "\n",
    "for i, j in zip(indexs_start, indexs_stops):\n",
    "      print(\"\".join(Orf1[i:j]))\n",
    "\n"
   ]
  },
  {
   "cell_type": "code",
   "execution_count": 28,
   "id": "speaking-turkish",
   "metadata": {},
   "outputs": [
    {
     "name": "stdout",
     "output_type": "stream",
     "text": [
      "['ATG', 'AAT', 'CCT', 'GGT', 'ATG', 'TTT', 'CCC', 'TAA', 'GGG', 'AAA', 'TGA', 'CCC', 'TGA']\n",
      "['ATGAATCCTGGTATGTTTCCCTAAGGGAAATGACCCTGA', 'ATGTTTCCCTAAGGGAAATGACCCTGA']\n"
     ]
    }
   ],
   "source": [
    "# def find_all_ORFs(dna):\n",
    "#     \"\"\" Finds all non-nested open reading frames in the given DNA sequence in\n",
    "#         all 3 possible frames and returns them as a list.  By non-nested we\n",
    "#         mean that if an ORF occurs entirely within another ORF and they are\n",
    "#         both in the same frame, it should not be included in the returned list\n",
    "#         of ORFs.\n",
    "\n",
    "#         dna: a DNA sequence\n",
    "#         returns: a list of non-nested ORFs\n",
    "\n",
    "#     >>> find_all_ORFs(\"ATGCATGAATGTAG\")\n",
    "#     ['ATGCATGAATGTAG', 'ATGAATGTAG', 'ATG']\n",
    "#     \"\"\"\n",
    "    \n",
    "#     # TODO: implement this\n",
    "\n",
    "dna = \"ATGAATCCTGGTATGTTTCCCTAAGGGAAATGACCCTGA\"\n",
    "Orf1 = []\n",
    "\n",
    "for i in range(0, len(dna), 3 ):\n",
    "    Orf1.append( dna[0+int(i):3+int(i)] )\n",
    "print(Orf1)\n",
    "\n",
    "#find and index all stop codons\n",
    "\n",
    "start_at = -1\n",
    "indexs_start = []\n",
    "\n",
    "while True:\n",
    "    \n",
    "    try:\n",
    "        loc = Orf1.index(\"ATG\",start_at+1)\n",
    "    except ValueError:\n",
    "        break\n",
    "    else:\n",
    "        indexs_start.append(loc)\n",
    "        start_at = loc\n",
    "\n",
    "nest_list = []\n",
    "for i in indexs_start:\n",
    "    nest_list.append(\"\".join(Orf1[i:]))\n",
    "print(nest_list)\n",
    "\n",
    "\n",
    "    "
   ]
  },
  {
   "cell_type": "code",
   "execution_count": 34,
   "id": "productive-genesis",
   "metadata": {},
   "outputs": [
    {
     "name": "stdout",
     "output_type": "stream",
     "text": [
      "ORF1 IS ----> ['CCC', 'ATG', 'AGA', 'TAG', 'TAT', 'ATG', 'GTG', 'AAA', 'TGG'] \n",
      "\n",
      "ORF2 IS ----> ['CCA', 'TGA', 'GAT', 'AGT', 'ATA', 'TGG', 'TGA', 'AAT', 'GG'] \n",
      "\n",
      "ORF3 IS ----> ['CAT', 'GAG', 'ATA', 'GTA', 'TAT', 'GGT', 'GAA', 'ATG', 'G'] \n",
      "\n",
      "['ATGAGATAGTATATGGTGAAATGG', 'ATGGTGAAATGG']\n",
      "[]\n",
      "['ATGG']\n"
     ]
    }
   ],
   "source": [
    "# ORF1 \n",
    "dna = \"CCCATGAGATAGTATATGGTGAAATGG\"\n",
    "Orf1 = []\n",
    "\n",
    "for i in range(0, len(dna), 3 ):\n",
    "    Orf1.append( dna[0+int(i):3+int(i)] )\n",
    "print(\"ORF1 IS ---->\", Orf1, \"\\n\")\n",
    "\n",
    "#ORF2\n",
    "\n",
    "Orf2 = []\n",
    "\n",
    "for i in range(0, len(dna), 3 ):\n",
    "    Orf2.append( dna[1+int(i):4+int(i)] )\n",
    "print(\"ORF2 IS ---->\", Orf2, \"\\n\")\n",
    "\n",
    "#ORF3\n",
    "\n",
    "Orf3 = []\n",
    "\n",
    "for i in range(0, len(dna), 3 ):\n",
    "    Orf3.append( dna[2+int(i):5+int(i)] )\n",
    "print(\"ORF3 IS ---->\", Orf3, \"\\n\")\n",
    "\n",
    "\n",
    "all_orfs = [Orf1, Orf2, Orf3]\n",
    "\n",
    "for rf in all_orfs:\n",
    "\n",
    "    start_at = -1\n",
    "    indexs_start = []\n",
    "\n",
    "    while True:\n",
    "\n",
    "        try:\n",
    "            loc = rf.index(\"ATG\",start_at+1)\n",
    "        except ValueError:\n",
    "            break\n",
    "        else:\n",
    "            indexs_start.append(loc)\n",
    "            start_at = loc\n",
    "\n",
    "    nest_list = []\n",
    "    for i in indexs_start:\n",
    "        nest_list.append(\"\".join(rf[i:]))\n",
    "    print(nest_list)\n",
    "\n"
   ]
  },
  {
   "cell_type": "code",
   "execution_count": 17,
   "id": "secret-toddler",
   "metadata": {},
   "outputs": [
    {
     "name": "stdout",
     "output_type": "stream",
     "text": [
      "['ATG', 'AAT', 'CCT', 'GGT', 'ATG', 'TTT', 'CCC', 'TAA', 'GGG', 'AAA', 'TGA', 'CCC', 'TGA']\n",
      "Start codon positions: \n",
      "[0, 4] \n",
      "\n",
      "Stop codon positions: \n",
      "[10, 12] \n",
      "\n",
      "[7] \n",
      "\n"
     ]
    }
   ],
   "source": [
    "dna = \"ATGAATCCTGGTATGTTTCCCTAAGGGAAATGACCCTGA\"\n",
    "Orf1 = []\n",
    "\n",
    "for i in range(0, len(dna), 3 ):\n",
    "    Orf1.append( dna[0+int(i):3+int(i)] )\n",
    "print(Orf1)\n",
    "\n",
    "#find and index all stop codons\n",
    "\n",
    "start_at = -1\n",
    "indexs_start = []\n",
    "\n",
    "while True:\n",
    "    \n",
    "    try:\n",
    "        loc = Orf1.index(\"ATG\",start_at+1)\n",
    "    except ValueError:\n",
    "        break\n",
    "    else:\n",
    "        indexs_start.append(loc)\n",
    "        start_at = loc\n",
    "print(\"Start codon positions: \")        \n",
    "print( indexs_start, \"\\n\")\n",
    "\n",
    "#find and index all stops in dna\n",
    "print(\"Stop codon positions: \")   \n",
    "if  \"TGA\" in Orf1:\n",
    "    stop_at = -1\n",
    "    indexs_stop = []\n",
    "\n",
    "    while True:\n",
    "\n",
    "        try:\n",
    "            loc = Orf1.index(\"TGA\",stop_at+1)\n",
    "        except ValueError:\n",
    "            break\n",
    "        else:\n",
    "            indexs_stop.append(loc)\n",
    "            stop_at = loc\n",
    "\n",
    "    print(indexs_stop, \"\\n\")\n",
    "    \n",
    "if  \"TAA\" in Orf1:\n",
    "    stop_at = -1\n",
    "    indexs_stop = []\n",
    "\n",
    "    while True:\n",
    "\n",
    "        try:\n",
    "            loc = Orf1.index(\"TAA\",stop_at+1)\n",
    "        except ValueError:\n",
    "            break\n",
    "        else:\n",
    "            indexs_stop.append(loc)\n",
    "            stop_at = loc\n",
    "\n",
    "    print(indexs_stop, \"\\n\")\n",
    "    \n",
    "if  \"TAG\" in Orf1:\n",
    "    start_at = -1\n",
    "    indexs_stop = []\n",
    "\n",
    "    while True:\n",
    "\n",
    "        try:\n",
    "            loc = Orf1.index(\"TAG\",stop_at+1)\n",
    "        except ValueError:\n",
    "            break\n",
    "        else:\n",
    "            indexs_stop.append(loc)\n",
    "            stop_at = loc\n",
    "\n",
    "    print(indexs_stop, \"\\n\")\n",
    "\n"
   ]
  },
  {
   "cell_type": "code",
   "execution_count": null,
   "id": "adequate-biography",
   "metadata": {},
   "outputs": [],
   "source": []
  },
  {
   "cell_type": "code",
   "execution_count": 49,
   "id": "alien-lindsay",
   "metadata": {},
   "outputs": [],
   "source": [
    "def get_reverse_complement(dna):\n",
    "    \"\"\" Computes the reverse complementary sequence of DNA for the specfied DNA\n",
    "        sequence\n",
    "\n",
    "        dna: a DNA sequence represented as a string\n",
    "        returns: the reverse complementary DNA sequence represented as a string\n",
    "    >>> get_reverse_complement(\"ATGCCCGCTTT\")\n",
    "    'AAAGCGGGCAT'\n",
    "    >>> get_reverse_complement(\"CCGCGTTCA\")\n",
    "    'TGAACGCGG'\n",
    "    \"\"\"\n",
    "    # TODO: implement this\n",
    "\n",
    "    complement = {'A': 'T', 'C': 'G', 'T': 'A', 'G': 'C'}\n",
    "#     original = \"ATCGTCA\"\n",
    "\n",
    "    list1 = [\"\".join(complement[letter] for letter in dna)]\n",
    "\n",
    "    st1 = \"\"\n",
    "    for i in list1:\n",
    "        st1+=i\n",
    "\n",
    "    return st1[::-1]\n",
    "\n",
    "\n",
    "def get_orfs(dna):\n",
    "        # ORF1 \n",
    "    Orf1 = []\n",
    "\n",
    "    for i in range(0, len(dna), 3 ):\n",
    "        Orf1.append( dna[0+int(i):3+int(i)] )\n",
    "    print(\"ORF1 IS ---->\", Orf1, \"\\n\")\n",
    "\n",
    "    #ORF2\n",
    "\n",
    "    Orf2 = []\n",
    "\n",
    "    for i in range(0, len(dna), 3 ):\n",
    "        Orf2.append( dna[1+int(i):4+int(i)] )\n",
    "    print(\"ORF2 IS ---->\", Orf2, \"\\n\")\n",
    "\n",
    "    #ORF3\n",
    "\n",
    "    Orf3 = []\n",
    "\n",
    "    for i in range(0, len(dna), 3 ):\n",
    "        Orf3.append( dna[2+int(i):5+int(i)] )\n",
    "    print(\"ORF3 IS ---->\", Orf3, \"\\n\")\n",
    "\n",
    "    \n",
    "    rev_dna = get_reverse_complement(dna)\n",
    "    \n",
    "    #ORF4\n",
    "    Orf4 = []\n",
    "\n",
    "    for i in range(0, len(rev_dna), 3 ):\n",
    "        Orf4.append( rev_dna[0+int(i):3+int(i)] )\n",
    "    print(\"ORF4 IS ---->\", Orf4, \"\\n\")\n",
    "\n",
    "    #ORF5\n",
    "\n",
    "    Orf5 = []\n",
    "\n",
    "    for i in range(0, len(rev_dna), 3 ):\n",
    "        Orf5.append( rev_dna[1+int(i):4+int(i)] )\n",
    "    print(\"ORF5 IS ---->\", Orf5, \"\\n\")\n",
    "\n",
    "    #ORF6\n",
    "\n",
    "    Orf6 = []\n",
    "\n",
    "    for i in range(0, len(rev_dna), 3 ):\n",
    "        Orf6.append( rev_dna[2+int(i):5+int(i)] )\n",
    "    print(\"ORF6 IS ---->\", Orf6, \"\\n\")\n",
    "\n",
    "    \n",
    "    \n",
    "    all_orfs = [Orf1, Orf2, Orf3, Orf4, Orf5, Orf6]\n",
    "    return all_orfs\n"
   ]
  },
  {
   "cell_type": "code",
   "execution_count": 51,
   "id": "frozen-coordinate",
   "metadata": {},
   "outputs": [
    {
     "name": "stdout",
     "output_type": "stream",
     "text": [
      "ORF1 IS ----> ['ATG', 'AAG', 'AGG', 'ATC', 'CCT', 'CAT', 'CTA', 'TCA', 'TTT', 'ATG', 'GG'] \n",
      "\n",
      "ORF2 IS ----> ['TGA', 'AGA', 'GGA', 'TCC', 'CTC', 'ATC', 'TAT', 'CAT', 'TTA', 'TGG', 'G'] \n",
      "\n",
      "ORF3 IS ----> ['GAA', 'GAG', 'GAT', 'CCC', 'TCA', 'TCT', 'ATC', 'ATT', 'TAT', 'GGG', ''] \n",
      "\n",
      "ORF4 IS ----> ['CCC', 'ATA', 'AAT', 'GAT', 'AGA', 'TGA', 'GGG', 'ATC', 'CTC', 'TTC', 'AT'] \n",
      "\n",
      "ORF5 IS ----> ['CCA', 'TAA', 'ATG', 'ATA', 'GAT', 'GAG', 'GGA', 'TCC', 'TCT', 'TCA', 'T'] \n",
      "\n",
      "ORF6 IS ----> ['CAT', 'AAA', 'TGA', 'TAG', 'ATG', 'AGG', 'GAT', 'CCT', 'CTT', 'CAT', ''] \n",
      "\n"
     ]
    },
    {
     "data": {
      "text/plain": [
       "[['ATG', 'AAG', 'AGG', 'ATC', 'CCT', 'CAT', 'CTA', 'TCA', 'TTT', 'ATG', 'GG'],\n",
       " ['TGA', 'AGA', 'GGA', 'TCC', 'CTC', 'ATC', 'TAT', 'CAT', 'TTA', 'TGG', 'G'],\n",
       " ['GAA', 'GAG', 'GAT', 'CCC', 'TCA', 'TCT', 'ATC', 'ATT', 'TAT', 'GGG', ''],\n",
       " ['CCC', 'ATA', 'AAT', 'GAT', 'AGA', 'TGA', 'GGG', 'ATC', 'CTC', 'TTC', 'AT'],\n",
       " ['CCA', 'TAA', 'ATG', 'ATA', 'GAT', 'GAG', 'GGA', 'TCC', 'TCT', 'TCA', 'T'],\n",
       " ['CAT', 'AAA', 'TGA', 'TAG', 'ATG', 'AGG', 'GAT', 'CCT', 'CTT', 'CAT', '']]"
      ]
     },
     "execution_count": 51,
     "metadata": {},
     "output_type": "execute_result"
    }
   ],
   "source": [
    "get_orfs(\"ATGAAGAGGATCCCTCATCTATCATTTATGGG\")"
   ]
  },
  {
   "cell_type": "code",
   "execution_count": 63,
   "id": "apart-bruce",
   "metadata": {},
   "outputs": [
    {
     "name": "stdout",
     "output_type": "stream",
     "text": [
      "ORF1 IS ----> ['ATG', 'CGA', 'ATG', 'TAG', 'CAT', 'CAA', 'A'] \n",
      "\n",
      "ORF2 IS ----> ['TGC', 'GAA', 'TGT', 'AGC', 'ATC', 'AAA', ''] \n",
      "\n",
      "ORF3 IS ----> ['GCG', 'AAT', 'GTA', 'GCA', 'TCA', 'AA', ''] \n",
      "\n",
      "ORF4 IS ----> ['TTT', 'GAT', 'GCT', 'ACA', 'TTC', 'GCA', 'T'] \n",
      "\n",
      "ORF5 IS ----> ['TTG', 'ATG', 'CTA', 'CAT', 'TCG', 'CAT', ''] \n",
      "\n",
      "ORF6 IS ----> ['TGA', 'TGC', 'TAC', 'ATT', 'CGC', 'AT', ''] \n",
      "\n",
      "['ATGCGAATGTAGCATCAAA', 'ATGTAGCATCAAA']\n",
      "[]\n",
      "[]\n",
      "[]\n",
      "['ATGCTACATTCGCAT']\n",
      "[]\n"
     ]
    }
   ],
   "source": [
    "# All six reading frames nests\n",
    "dna = \"ATGCGAATGTAGCATCAAA\"\n",
    "\n",
    "for rf in get_orfs(dna):\n",
    "    start_at = -1\n",
    "    indexs_start = []\n",
    "\n",
    "    while True:\n",
    "\n",
    "        try:\n",
    "            loc = rf.index(\"ATG\",start_at+1)\n",
    "        except ValueError:\n",
    "            break\n",
    "        else:\n",
    "            indexs_start.append(loc)\n",
    "            start_at = loc\n",
    "\n",
    "    nest_list = []\n",
    "    for i in indexs_start:\n",
    "        nest_list.append(\"\".join(rf[i:]))\n",
    "    print(nest_list)"
   ]
  },
  {
   "cell_type": "code",
   "execution_count": 128,
   "id": "rubber-prince",
   "metadata": {},
   "outputs": [
    {
     "name": "stdout",
     "output_type": "stream",
     "text": [
      "ATGCTACATTCGCAT\n"
     ]
    }
   ],
   "source": [
    "import re\n",
    "\n",
    "dna = \"ATGCGAATGTAGCATCAAA\"\n",
    "\n",
    "if \"TAG\" in dna or \"TAA\" in dna or \"TGA\" in dna:\n",
    "    f = (max(re.findall(r'ATG(?:(?!TAA|TAG|TGA)...)*(?:TAA|TAG|TGA)',dna), key = len))\n",
    "else:\n",
    "    f = (max(re.findall(r'ATG(?:...)*(?:.*)',dna), key = len))\n",
    "    \n",
    "revers = get_reverse_complement(dna)\n",
    "\n",
    "if \"TAG\" in revers or \"TAA\" in revers or \"TGA\" in revers:\n",
    "    r = (max(re.findall(r'ATG(?:...)*(?:.*)',revers), key = len))\n",
    "          \n",
    "else:\n",
    "    r= (max(re.findall(r'ATG(?:(?!TAA|TAG|TGA)...)*(?:TAA|TAG|TGA)',revers), key = len))\n",
    "\n",
    "\n",
    "if len(f) > len(r):\n",
    "    print (f)\n",
    "\n",
    "else:\n",
    "    print (r)\n",
    "    "
   ]
  },
  {
   "cell_type": "code",
   "execution_count": 94,
   "id": "instant-canberra",
   "metadata": {},
   "outputs": [
    {
     "data": {
      "text/plain": [
       "'ATGCTACATTCGCAT'"
      ]
     },
     "execution_count": 94,
     "metadata": {},
     "output_type": "execute_result"
    }
   ],
   "source": [
    "import re\n",
    "\n",
    "max(re.findall(r'ATG(?:...)*(?:.*)',get_reverse_complement(dna)), key = len)\n"
   ]
  },
  {
   "cell_type": "code",
   "execution_count": 119,
   "id": "automotive-narrative",
   "metadata": {},
   "outputs": [
    {
     "data": {
      "text/plain": [
       "'TATGACTATGAACGAAGAC'"
      ]
     },
     "execution_count": 119,
     "metadata": {},
     "output_type": "execute_result"
    }
   ],
   "source": [
    "import random\n",
    "s=\"ATGCGAATGTAGCATCAAA\"\n",
    "''.join(random.sample(s,len(s)))"
   ]
  },
  {
   "cell_type": "code",
   "execution_count": 188,
   "id": "dramatic-reconstruction",
   "metadata": {},
   "outputs": [
    {
     "data": {
      "text/plain": [
       "'ATGTAAACATATTCCGACCGAAGTGATTACAAGAGAAG'"
      ]
     },
     "execution_count": 188,
     "metadata": {},
     "output_type": "execute_result"
    }
   ],
   "source": [
    "# def longest_ORF_noncoding(dna, num_trials):\n",
    "#     \"\"\" Computes the maximum length of the longest ORF over num_trials shuffles\n",
    "#         of the specfied DNA sequence\n",
    "\n",
    "#         dna: a DNA sequence\n",
    "#         num_trials: the number of random shuffles\n",
    "#         returns: the maximum length longest ORF \"\"\"\n",
    "#     # TODO: implement this\n",
    "#     pass\n",
    "\n",
    "import random\n",
    "import re\n",
    "\n",
    "longest_orf_shuffled =[]\n",
    "for iteration in range(1000):\n",
    "#     print(iteration)\n",
    "    s=\"ATGCGAATGTAGCATCAAACAAGAAGGATTGACAATCT\"\n",
    "    dna = ''.join(random.sample(s,len(s)))\n",
    "\n",
    "    \n",
    "    if \"ATG\" in dna:\n",
    "        f = (max(re.findall(r'ATG(?:...)*(?:.*)',dna), key = len))\n",
    "\n",
    "\n",
    "        \n",
    "    revers = get_reverse_complement(dna)\n",
    "\n",
    "    if \"ATG\" in revers:\n",
    "        r = (max(re.findall(r'ATG(?:...)*(?:.*)',revers), key = len))\n",
    "\n",
    "\n",
    "    if len(f) > len(r):\n",
    "        longest_orf_shuffled.append(f)\n",
    "    else:\n",
    "        longest_orf_shuffled.append(r)\n",
    "\n",
    "max(longest_orf_shuffled, key=len)"
   ]
  },
  {
   "cell_type": "code",
   "execution_count": 186,
   "id": "ambient-learning",
   "metadata": {},
   "outputs": [
    {
     "data": {
      "text/plain": [
       "'ATGTTTCTCTATAGATGCTACTGTGCCTTGACTTATAC'"
      ]
     },
     "execution_count": 186,
     "metadata": {},
     "output_type": "execute_result"
    }
   ],
   "source": [
    "max(longest_orf_shuffled, key=len)"
   ]
  },
  {
   "cell_type": "code",
   "execution_count": 179,
   "id": "pleasant-damage",
   "metadata": {},
   "outputs": [
    {
     "data": {
      "text/plain": [
       "10"
      ]
     },
     "execution_count": 179,
     "metadata": {},
     "output_type": "execute_result"
    }
   ],
   "source": [
    "len([i for i in longest_orf_shuffled])"
   ]
  },
  {
   "cell_type": "code",
   "execution_count": 175,
   "id": "flying-convertible",
   "metadata": {},
   "outputs": [
    {
     "data": {
      "text/plain": [
       "38"
      ]
     },
     "execution_count": 175,
     "metadata": {},
     "output_type": "execute_result"
    }
   ],
   "source": [
    "(\"ATGAAGCATTAAACCACAAAGATGTGTAGATGAGCACT\")"
   ]
  },
  {
   "cell_type": "code",
   "execution_count": null,
   "id": "charged-roulette",
   "metadata": {},
   "outputs": [],
   "source": []
  }
 ],
 "metadata": {
  "kernelspec": {
   "display_name": "Python 3",
   "language": "python",
   "name": "python3"
  },
  "language_info": {
   "codemirror_mode": {
    "name": "ipython",
    "version": 3
   },
   "file_extension": ".py",
   "mimetype": "text/x-python",
   "name": "python",
   "nbconvert_exporter": "python",
   "pygments_lexer": "ipython3",
   "version": "3.8.3"
  }
 },
 "nbformat": 4,
 "nbformat_minor": 5
}
