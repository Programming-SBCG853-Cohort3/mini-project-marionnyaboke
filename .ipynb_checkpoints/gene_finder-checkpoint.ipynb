{
 "cells": [
  {
   "cell_type": "code",
   "execution_count": 2,
   "metadata": {},
   "outputs": [],
   "source": [
    "import random\n",
    "from amino_acids import aa, codons, aa_table   # you may find these useful\n",
    "from load import load_seq"
   ]
  },
  {
   "cell_type": "code",
   "execution_count": 3,
   "metadata": {},
   "outputs": [],
   "source": [
    "def shuffle_string(s):\n",
    "    \"\"\"Shuffles the characters in the input string\n",
    "        NOTE: this is a helper function, you do not\n",
    "        have to modify this in any way \"\"\"\n",
    "    return ''.join(random.sample(s, len(s)))\n",
    "\n",
    "# YOU WILL START YOUR IMPLEMENTATION FROM HERE DOWN ###\n"
   ]
  },
  {
   "cell_type": "code",
   "execution_count": 6,
   "metadata": {},
   "outputs": [
    {
     "name": "stdout",
     "output_type": "stream",
     "text": [
      "Not a nucleotide\n"
     ]
    }
   ],
   "source": [
    "def get_complement(nucleotide):\n",
    "    \"\"\" Returns the complementary nucleotide\n",
    "\n",
    "        nucleotide: a nucleotide (A, C, G, or T) represented as a string\n",
    "        returns: the complementary nucleotide\n",
    "    >>> get_complement('A')\n",
    "    'T'\n",
    "    >>> get_complement('C')\n",
    "    'G'\n",
    "    \"\"\"\n",
    "    # TODO: implement this\n",
    "    \n",
    "    \n",
    "    if nucleotide == \"A\":\n",
    "        return \"T\"\n",
    "    elif nucleotide == \"C\":\n",
    "        return \"G\"\n",
    "    elif nucleotide == \"T\":\n",
    "        return \"A\"\n",
    "    elif nucleotide == \"G\":\n",
    "        return \"C\"\n",
    "    else:\n",
    "        return \"Not a nucleotide\"\n",
    "\n",
    "\n",
    "print(get_complement(\"W\"))"
   ]
  },
  {
   "cell_type": "code",
   "execution_count": 26,
   "metadata": {},
   "outputs": [
    {
     "name": "stdout",
     "output_type": "stream",
     "text": [
      "['TAGCAGT']\n",
      "TGACGAT\n"
     ]
    }
   ],
   "source": [
    "complement = {'A': 'T', 'C': 'G', 'T': 'A', 'G': 'C'}\n",
    "original = \"ATCGTCA\"\n",
    "\n",
    "list1 = [\"\".join(complement[letter] for letter in original)]\n",
    "\n",
    "st1 = \"\"\n",
    "for i in list1:\n",
    "    st1+=i\n",
    "    \n",
    "print(st1[::-1])\n"
   ]
  },
  {
   "cell_type": "code",
   "execution_count": 6,
   "metadata": {},
   "outputs": [],
   "source": [
    "def get_reverse_complement(dna):\n",
    "    \"\"\" Computes the reverse complementary sequence of DNA for the specfied DNA\n",
    "        sequence\n",
    "\n",
    "        dna: a DNA sequence represented as a string\n",
    "        returns: the reverse complementary DNA sequence represented as a string\n",
    "    >>> get_reverse_complement(\"ATGCCCGCTTT\")\n",
    "    'AAAGCGGGCAT'\n",
    "    >>> get_reverse_complement(\"CCGCGTTCA\")\n",
    "    'TGAACGCGG'\n",
    "    \"\"\"\n",
    "    # TODO: implement this\n",
    "\n",
    "    complement = {'A': 'T', 'C': 'G', 'T': 'A', 'G': 'C'}\n",
    "#     original = \"ATCGTCA\"\n",
    "\n",
    "    list1 = [\"\".join(complement[letter] for letter in dna)]\n",
    "\n",
    "    st1 = \"\"\n",
    "    for i in list1:\n",
    "        st1+=i\n",
    "\n",
    "    return st1[::-1]\n"
   ]
  },
  {
   "cell_type": "code",
   "execution_count": 5,
   "metadata": {},
   "outputs": [
    {
     "data": {
      "text/plain": [
       "'CATCGACGAT'"
      ]
     },
     "execution_count": 5,
     "metadata": {},
     "output_type": "execute_result"
    }
   ],
   "source": [
    "dna = \"ATCGTCGATG\"\n",
    "get_reverse_complement(dna)"
   ]
  },
  {
   "cell_type": "code",
   "execution_count": 29,
   "metadata": {},
   "outputs": [],
   "source": [
    "def load_seq(fasta_file):\n",
    "    \"\"\" Reads a FASTA file and returns the DNA sequence as a string.\n",
    "\n",
    "    fasta_file: the path to the FASTA file containing the DNA sequence\n",
    "    returns: the DNA sequence as a string\n",
    "    \"\"\"\n",
    "    retval = \"\"\n",
    "    f = open(fasta_file)\n",
    "    lines = f.readlines()\n",
    "    for l in lines[1:]:\n",
    "        retval += l[0:-1]\n",
    "    f.close()\n",
    "    return retval"
   ]
  },
  {
   "cell_type": "code",
   "execution_count": 14,
   "metadata": {},
   "outputs": [
    {
     "name": "stdout",
     "output_type": "stream",
     "text": [
      "/home/eanbit11/mini-project-marionnyaboke\n"
     ]
    }
   ],
   "source": [
    "!pwd\n"
   ]
  },
  {
   "cell_type": "code",
   "execution_count": 35,
   "metadata": {},
   "outputs": [],
   "source": [
    "# dna = load_seq(\"data/X73525.fa\")\n",
    "with open(\"reversed_dna\", \"w+\") as wf:\n",
    "    wf.writelines(get_reverse_complement(load_seq(\"data/X73525.fa\")))"
   ]
  },
  {
   "cell_type": "code",
   "execution_count": null,
   "metadata": {},
   "outputs": [],
   "source": [
    "def rest_of_ORF(dna):\n",
    "    \"\"\" Takes a DNA sequence that is assumed to begin with a start\n",
    "        codon and returns the sequence up to but not including the\n",
    "        first in frame stop codon.  If there is no in frame stop codon,\n",
    "        returns the whole string.\n",
    "\n",
    "        dna: a DNA sequence\n",
    "        returns: the open reading frame represented as a string\n",
    "    >>> rest_of_ORF(\"ATGTGAA\")\n",
    "    'ATG'\n",
    "    >>> rest_of_ORF(\"ATGAGATAGG\")\n",
    "    'ATGAGA'\n",
    "    \"\"\"\n",
    "    # TODO: implement this\n",
    "    \n",
    "\n",
    "    "
   ]
  },
  {
   "cell_type": "code",
   "execution_count": 13,
   "metadata": {},
   "outputs": [
    {
     "name": "stdout",
     "output_type": "stream",
     "text": [
      "ORF IS ----> ['ATG', 'AGA', 'TAG', 'TAA', 'G'] \n",
      "\n",
      "All stop codons in this orf ----> ['TAG', 'TAA'] \n",
      "\n",
      "ATGAGA\n"
     ]
    }
   ],
   "source": [
    "# ORF1 CODE\n",
    "dna = \"ATGAGATAGTAAG\"\n",
    "Orf1 = []\n",
    "\n",
    "for i in range(0, len(dna), 3 ):\n",
    "    Orf1.append( dna[0+int(i):3+int(i)] )\n",
    "print(\"ORF IS ---->\", Orf1, \"\\n\")\n",
    "\n",
    "lis = []\n",
    "\n",
    "stops = ['TAG', 'TAA', 'TGA']\n",
    "\n",
    "for i in stops:\n",
    "    if i in Orf1:\n",
    "        lis.append(i)\n",
    "\n",
    "print(\"All stop codons in this orf ---->\", lis, \"\\n\")\n",
    "\n",
    "indexs_stops = []\n",
    "\n",
    "for i in lis:\n",
    "    indexs_stops.append(int(Orf1.index(i)))\n",
    "sorted_indexs_stops = sorted(indexs_stops)\n",
    "\n",
    "               \n",
    "start = (Orf1.index(\"ATG\")) #start index\n",
    "\n",
    "if len(sorted_indexs_stops) > 1:\n",
    "    stop = sorted_indexs_stops[0]#stop index\n",
    "    print(\"\".join(Orf1[start:stop]))\n",
    "else:\n",
    "    print(\"\".join(Orf1[start:]))"
   ]
  },
  {
   "cell_type": "code",
   "execution_count": 3,
   "metadata": {},
   "outputs": [
    {
     "name": "stdout",
     "output_type": "stream",
     "text": [
      "['TGA', 'GAT', 'AGG', '']\n",
      "No stop codon found 🤯\n"
     ]
    }
   ],
   "source": [
    "try:\n",
    "    dna = \"ATGAGATAGG\"\n",
    "    Orf2 = []\n",
    "\n",
    "    for i in range(0, len(dna), 3 ):\n",
    "        Orf2.append( dna[1+int(i):4+int(i)] )\n",
    "    print(Orf2)\n",
    "    print(Orf2.index(\"TAG\"))\n",
    "\n",
    "except ValueError:\n",
    "    print(\"No stop codon found 🤯\")\n",
    "\n",
    "    # start = 'ATG'\n",
    "    # stop = ['TAG', 'TAA', 'TGA']"
   ]
  },
  {
   "cell_type": "code",
   "execution_count": 8,
   "metadata": {},
   "outputs": [
    {
     "name": "stdout",
     "output_type": "stream",
     "text": [
      "['GAG', 'ATA', 'GG', '']\n",
      "No stop codon found 🤯\n"
     ]
    }
   ],
   "source": [
    "try:\n",
    "    dna = \"ATGAGATAGG\"\n",
    "    Orf3 = []\n",
    "\n",
    "    for i in range(0, len(dna), 3 ):\n",
    "        Orf3.append( dna[2+int(i):5+int(i)] )\n",
    "    print(Orf3)\n",
    "    print(Orf3.index(\"TAG\"))\n",
    "    \n",
    "except ValueError:\n",
    "    print(\"No stop codon found 🤯\")\n",
    "\n",
    "# start = 'ATG'\n",
    "# stop = ['TAG', 'TAA', 'TGA']"
   ]
  },
  {
   "cell_type": "code",
   "execution_count": 7,
   "metadata": {},
   "outputs": [
    {
     "name": "stdout",
     "output_type": "stream",
     "text": [
      "['CCT', 'ATC', 'TCA', 'T']\n",
      "No stop codon found 🤯\n"
     ]
    }
   ],
   "source": [
    "try:\n",
    "    dna = \"ATGAGATAGG\"\n",
    "    Revers = get_reverse_complement(dna)\n",
    "\n",
    "    Orf4 = []\n",
    "\n",
    "    for i in range(0, len(dna), 3 ):\n",
    "        Orf4.append( Revers[0+int(i):3+int(i)] )\n",
    "    print(Orf4)\n",
    "    print(Orf4.index(\"TAG\"))\n",
    "    \n",
    "except ValueError:\n",
    "    print(\"No stop codon found 🤯\")\n",
    "# start = 'ATG'\n",
    "# stop = ['TAG', 'TAA', 'TGA']"
   ]
  },
  {
   "cell_type": "code",
   "execution_count": 9,
   "metadata": {},
   "outputs": [
    {
     "name": "stdout",
     "output_type": "stream",
     "text": [
      "['CTA', 'TCT', 'CAT', '']\n",
      "No stop codon found 🤯\n"
     ]
    }
   ],
   "source": [
    "try:\n",
    "    dna = \"ATGAGATAGG\"\n",
    "    Revers = get_reverse_complement(dna)\n",
    "\n",
    "    Orf5 = []\n",
    "\n",
    "    for i in range(0, len(dna), 3 ):\n",
    "        Orf5.append( Revers[1+int(i):4+int(i)] )\n",
    "    print(Orf5)\n",
    "    print(Orf5.index(\"TAG\"))\n",
    "    \n",
    "except ValueError:\n",
    "    print(\"No stop codon found 🤯\")\n",
    "    \n",
    "# start = 'ATG'\n",
    "# stop = ['TAG', 'TAA', 'TGA']"
   ]
  },
  {
   "cell_type": "code",
   "execution_count": 10,
   "metadata": {},
   "outputs": [
    {
     "name": "stdout",
     "output_type": "stream",
     "text": [
      "['TAT', 'CTC', 'AT', '']\n",
      "No stop codon found 🤯\n"
     ]
    }
   ],
   "source": [
    "try:\n",
    "    dna = \"ATGAGATAGG\"\n",
    "    Revers = get_reverse_complement(dna)\n",
    "\n",
    "    Orf6 = []\n",
    "\n",
    "    for i in range(0, len(dna), 3 ):\n",
    "        Orf6.append( Revers[2+int(i):5+int(i)] )\n",
    "    print(Orf6)\n",
    "    print(Orf6.index(\"TAG\"))\n",
    "    \n",
    "except ValueError:\n",
    "    print(\"No stop codon found 🤯\")\n",
    "    \n",
    "# start = 'ATG'\n",
    "# stop = ['TAG', 'TAA', 'TGA']"
   ]
  },
  {
   "cell_type": "code",
   "execution_count": null,
   "metadata": {},
   "outputs": [],
   "source": [
    "def find_all_ORFs_oneframe(dna):\n",
    "    \"\"\" Finds all non-nested open reading frames in the given DNA\n",
    "        sequence and returns them as a list.  This function should\n",
    "        only find ORFs that are in the default frame of the sequence\n",
    "        (i.e. they start on indices that are multiples of 3).\n",
    "        By non-nested we mean that if an ORF occurs entirely within\n",
    "        another ORF, it should not be included in the returned list of ORFs.\n",
    "\n",
    "        dna: a DNA sequence\n",
    "        returns: a list of non-nested ORFs\n",
    "    >>> find_all_ORFs_oneframe(\"ATGCATGAATGTAGATAGATGTGCCC\")\n",
    "    ['ATGCATGAATGTAG', 'ATGTGCCC']\n",
    "    \"\"\"\n",
    "    # TODO: implement this\n",
    "    pass"
   ]
  },
  {
   "cell_type": "code",
   "execution_count": 8,
   "metadata": {},
   "outputs": [
    {
     "name": "stdout",
     "output_type": "stream",
     "text": [
      "['ATG', 'AAT', 'CCT', 'GGT', 'ATG', 'TTT', 'CCC', 'TAA', 'GGG', 'AAA', 'TGA']\n",
      "[0, 4] \n",
      "\n",
      "All stop codons in this orf ----> ['TAA', 'TGA'] \n",
      "\n",
      "[7, 10]\n",
      "['ATGAATCCTGGTATGTTTCCC']\n",
      "['ATGTTTCCCTAAGGGAAA']\n"
     ]
    }
   ],
   "source": [
    "dna = \"ATGAATCCTGGTATGTTTCCCTAAGGGAAATGA\"\n",
    "Orf1 = []\n",
    "\n",
    "for i in range(0, len(dna), 3 ):\n",
    "    Orf1.append( dna[0+int(i):3+int(i)] )\n",
    "print(Orf1)\n",
    "\n",
    "#find all start codons and index\n",
    "start_at = -1\n",
    "indexs_start = []\n",
    "while True:\n",
    "    try:\n",
    "        loc = Orf1.index(\"ATG\",start_at+1)\n",
    "    except ValueError:\n",
    "        break\n",
    "    else:\n",
    "        indexs_start.append(loc)\n",
    "        start_at = loc\n",
    "\n",
    "print(indexs_start, \"\\n\")\n",
    "\n",
    "#find all stop codons\n",
    "all_stops = []\n",
    "\n",
    "stops = ['TAG', 'TAA', 'TGA']\n",
    "\n",
    "for i in stops:\n",
    "    if i in Orf1:\n",
    "        all_stops.append(i)\n",
    "\n",
    "print(\"All stop codons in this orf ---->\", all_stops, \"\\n\")\n",
    "\n",
    "indexs_stops = []\n",
    "\n",
    "for i in stops:\n",
    "    if i in Orf1:\n",
    "        indexs_stops.append(int(Orf1.index(i)))\n",
    "\n",
    "print (indexs_stops)\n",
    "\n",
    "for i, j in zip(indexs_start, indexs_stops):\n",
    "      print([\"\".join(Orf1[i:j])])\n",
    "\n"
   ]
  },
  {
   "cell_type": "code",
   "execution_count": null,
   "metadata": {},
   "outputs": [],
   "source": [
    "def find_all_ORFs(dna):\n",
    "    \"\"\" Finds all non-nested open reading frames in the given DNA sequence in\n",
    "        all 3 possible frames and returns them as a list.  By non-nested we\n",
    "        mean that if an ORF occurs entirely within another ORF and they are\n",
    "        both in the same frame, it should not be included in the returned list\n",
    "        of ORFs.\n",
    "\n",
    "        dna: a DNA sequence\n",
    "        returns: a list of non-nested ORFs\n",
    "\n",
    "    >>> find_all_ORFs(\"ATGCATGAATGTAG\")\n",
    "    ['ATGCATGAATGTAG', 'ATGAATGTAG', 'ATG']\n",
    "    \"\"\"\n",
    "    # TODO: implement this\n",
    "    pass"
   ]
  }
 ],
 "metadata": {
  "kernelspec": {
   "display_name": "Python 3",
   "language": "python",
   "name": "python3"
  },
  "language_info": {
   "codemirror_mode": {
    "name": "ipython",
    "version": 3
   },
   "file_extension": ".py",
   "mimetype": "text/x-python",
   "name": "python",
   "nbconvert_exporter": "python",
   "pygments_lexer": "ipython3",
   "version": "3.8.3"
  }
 },
 "nbformat": 4,
 "nbformat_minor": 4
}
