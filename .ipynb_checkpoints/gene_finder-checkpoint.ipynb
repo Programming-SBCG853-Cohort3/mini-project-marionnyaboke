{
 "cells": [
  {
   "cell_type": "code",
   "execution_count": 2,
   "metadata": {},
   "outputs": [],
   "source": [
    "import random\n",
    "from amino_acids import aa, codons, aa_table   # you may find these useful\n",
    "from load import load_seq"
   ]
  },
  {
   "cell_type": "code",
   "execution_count": 3,
   "metadata": {},
   "outputs": [],
   "source": [
    "def shuffle_string(s):\n",
    "    \"\"\"Shuffles the characters in the input string\n",
    "        NOTE: this is a helper function, you do not\n",
    "        have to modify this in any way \"\"\"\n",
    "    return ''.join(random.sample(s, len(s)))\n",
    "\n",
    "# YOU WILL START YOUR IMPLEMENTATION FROM HERE DOWN ###\n"
   ]
  },
  {
   "cell_type": "code",
   "execution_count": 6,
   "metadata": {},
   "outputs": [
    {
     "name": "stdout",
     "output_type": "stream",
     "text": [
      "Not a nucleotide\n"
     ]
    }
   ],
   "source": [
    "def get_complement(nucleotide):\n",
    "    \"\"\" Returns the complementary nucleotide\n",
    "\n",
    "        nucleotide: a nucleotide (A, C, G, or T) represented as a string\n",
    "        returns: the complementary nucleotide\n",
    "    >>> get_complement('A')\n",
    "    'T'\n",
    "    >>> get_complement('C')\n",
    "    'G'\n",
    "    \"\"\"\n",
    "    # TODO: implement this\n",
    "    \n",
    "    \n",
    "    if nucleotide == \"A\":\n",
    "        return \"T\"\n",
    "    elif nucleotide == \"C\":\n",
    "        return \"G\"\n",
    "    elif nucleotide == \"T\":\n",
    "        return \"A\"\n",
    "    elif nucleotide == \"G\":\n",
    "        return \"C\"\n",
    "    else:\n",
    "        return \"Not a nucleotide\"\n",
    "\n",
    "\n",
    "print(get_complement(\"W\"))"
   ]
  },
  {
   "cell_type": "code",
   "execution_count": 26,
   "metadata": {},
   "outputs": [
    {
     "name": "stdout",
     "output_type": "stream",
     "text": [
      "['TAGCAGT']\n",
      "TGACGAT\n"
     ]
    }
   ],
   "source": [
    "complement = {'A': 'T', 'C': 'G', 'T': 'A', 'G': 'C'}\n",
    "original = \"ATCGTCA\"\n",
    "\n",
    "list1 = [\"\".join(complement[letter] for letter in original)]\n",
    "\n",
    "st1 = \"\"\n",
    "for i in list1:\n",
    "    st1+=i\n",
    "    \n",
    "print(st1[::-1])\n"
   ]
  },
  {
   "cell_type": "code",
   "execution_count": 4,
   "metadata": {},
   "outputs": [],
   "source": [
    "def get_reverse_complement(dna):\n",
    "    \"\"\" Computes the reverse complementary sequence of DNA for the specfied DNA\n",
    "        sequence\n",
    "\n",
    "        dna: a DNA sequence represented as a string\n",
    "        returns: the reverse complementary DNA sequence represented as a string\n",
    "    >>> get_reverse_complement(\"ATGCCCGCTTT\")\n",
    "    'AAAGCGGGCAT'\n",
    "    >>> get_reverse_complement(\"CCGCGTTCA\")\n",
    "    'TGAACGCGG'\n",
    "    \"\"\"\n",
    "    # TODO: implement this\n",
    "\n",
    "    complement = {'A': 'T', 'C': 'G', 'T': 'A', 'G': 'C'}\n",
    "#     original = \"ATCGTCA\"\n",
    "\n",
    "    list1 = [\"\".join(complement[letter] for letter in dna)]\n",
    "\n",
    "    st1 = \"\"\n",
    "    for i in list1:\n",
    "        st1+=i\n",
    "\n",
    "    return st1[::-1]\n"
   ]
  },
  {
   "cell_type": "code",
   "execution_count": 5,
   "metadata": {},
   "outputs": [
    {
     "data": {
      "text/plain": [
       "'CATCGACGAT'"
      ]
     },
     "execution_count": 5,
     "metadata": {},
     "output_type": "execute_result"
    }
   ],
   "source": [
    "dna = \"ATCGTCGATG\"\n",
    "get_reverse_complement(dna)"
   ]
  },
  {
   "cell_type": "code",
   "execution_count": 29,
   "metadata": {},
   "outputs": [],
   "source": [
    "def load_seq(fasta_file):\n",
    "    \"\"\" Reads a FASTA file and returns the DNA sequence as a string.\n",
    "\n",
    "    fasta_file: the path to the FASTA file containing the DNA sequence\n",
    "    returns: the DNA sequence as a string\n",
    "    \"\"\"\n",
    "    retval = \"\"\n",
    "    f = open(fasta_file)\n",
    "    lines = f.readlines()\n",
    "    for l in lines[1:]:\n",
    "        retval += l[0:-1]\n",
    "    f.close()\n",
    "    return retval"
   ]
  },
  {
   "cell_type": "code",
   "execution_count": 35,
   "metadata": {},
   "outputs": [],
   "source": [
    "# dna = load_seq(\"data/X73525.fa\")\n",
    "with open(\"reversed_dna\", \"w+\") as wf:\n",
    "    wf.writelines(get_reverse_complement(load_seq(\"data/X73525.fa\")))"
   ]
  },
  {
   "cell_type": "code",
   "execution_count": null,
   "metadata": {},
   "outputs": [],
   "source": [
    "def rest_of_ORF(dna):\n",
    "    \"\"\" Takes a DNA sequence that is assumed to begin with a start\n",
    "        codon and returns the sequence up to but not including the\n",
    "        first in frame stop codon.  If there is no in frame stop codon,\n",
    "        returns the whole string.\n",
    "\n",
    "        dna: a DNA sequence\n",
    "        returns: the open reading frame represented as a string\n",
    "    >>> rest_of_ORF(\"ATGTGAA\")\n",
    "    'ATG'\n",
    "    >>> rest_of_ORF(\"ATGAGATAGG\")\n",
    "    'ATGAGA'\n",
    "    \"\"\"\n",
    "    # TODO: implement this\n",
    "    \n",
    "\n",
    "    "
   ]
  },
  {
   "cell_type": "code",
   "execution_count": 71,
   "metadata": {},
   "outputs": [
    {
     "name": "stdout",
     "output_type": "stream",
     "text": [
      "['ATG', 'AGA', 'TAG', 'G']\n",
      "2\n"
     ]
    }
   ],
   "source": [
    "dna = \"ATGAGATAGG\"\n",
    "Orf1 = []\n",
    "\n",
    "for i in range(0, len(dna), 3 ):\n",
    "    Orf1.append( dna[0+int(i):3+int(i)] )\n",
    "print(Orf1)\n",
    "print(Orf1.index(\"TAG\"))\n",
    "# start = 'ATG'\n",
    "# stop = ['TAG', 'TAA', 'TGA']\n",
    "\n"
   ]
  },
  {
   "cell_type": "code",
   "execution_count": 73,
   "metadata": {},
   "outputs": [
    {
     "name": "stdout",
     "output_type": "stream",
     "text": [
      "['TGA', 'GAT', 'AGG', '']\n"
     ]
    },
    {
     "ename": "ValueError",
     "evalue": "'TAG' is not in list",
     "output_type": "error",
     "traceback": [
      "\u001b[0;31m---------------------------------------------------------------------------\u001b[0m",
      "\u001b[0;31mValueError\u001b[0m                                Traceback (most recent call last)",
      "\u001b[0;32m<ipython-input-73-0270e160d5a2>\u001b[0m in \u001b[0;36m<module>\u001b[0;34m\u001b[0m\n\u001b[1;32m      5\u001b[0m     \u001b[0mOrf2\u001b[0m\u001b[0;34m.\u001b[0m\u001b[0mappend\u001b[0m\u001b[0;34m(\u001b[0m \u001b[0mdna\u001b[0m\u001b[0;34m[\u001b[0m\u001b[0;36m1\u001b[0m\u001b[0;34m+\u001b[0m\u001b[0mint\u001b[0m\u001b[0;34m(\u001b[0m\u001b[0mi\u001b[0m\u001b[0;34m)\u001b[0m\u001b[0;34m:\u001b[0m\u001b[0;36m4\u001b[0m\u001b[0;34m+\u001b[0m\u001b[0mint\u001b[0m\u001b[0;34m(\u001b[0m\u001b[0mi\u001b[0m\u001b[0;34m)\u001b[0m\u001b[0;34m]\u001b[0m \u001b[0;34m)\u001b[0m\u001b[0;34m\u001b[0m\u001b[0;34m\u001b[0m\u001b[0m\n\u001b[1;32m      6\u001b[0m \u001b[0mprint\u001b[0m\u001b[0;34m(\u001b[0m\u001b[0mOrf2\u001b[0m\u001b[0;34m)\u001b[0m\u001b[0;34m\u001b[0m\u001b[0;34m\u001b[0m\u001b[0m\n\u001b[0;32m----> 7\u001b[0;31m \u001b[0mprint\u001b[0m\u001b[0;34m(\u001b[0m\u001b[0mOrf2\u001b[0m\u001b[0;34m.\u001b[0m\u001b[0mindex\u001b[0m\u001b[0;34m(\u001b[0m\u001b[0;34m\"TAG\"\u001b[0m\u001b[0;34m)\u001b[0m\u001b[0;34m)\u001b[0m\u001b[0;34m\u001b[0m\u001b[0;34m\u001b[0m\u001b[0m\n\u001b[0m\u001b[1;32m      8\u001b[0m \u001b[0;31m# start = 'ATG'\u001b[0m\u001b[0;34m\u001b[0m\u001b[0;34m\u001b[0m\u001b[0;34m\u001b[0m\u001b[0m\n\u001b[1;32m      9\u001b[0m \u001b[0;31m# stop = ['TAG', 'TAA', 'TGA']\u001b[0m\u001b[0;34m\u001b[0m\u001b[0;34m\u001b[0m\u001b[0;34m\u001b[0m\u001b[0m\n",
      "\u001b[0;31mValueError\u001b[0m: 'TAG' is not in list"
     ]
    }
   ],
   "source": [
    "dna = \"ATGAGATAGG\"\n",
    "Orf2 = []\n",
    "\n",
    "for i in range(0, len(dna), 3 ):\n",
    "    Orf2.append( dna[1+int(i):4+int(i)] )\n",
    "print(Orf2)\n",
    "print(Orf2.index(\"TAG\"))\n",
    "# start = 'ATG'\n",
    "# stop = ['TAG', 'TAA', 'TGA']"
   ]
  },
  {
   "cell_type": "code",
   "execution_count": 1,
   "metadata": {},
   "outputs": [
    {
     "name": "stdout",
     "output_type": "stream",
     "text": [
      "['GAG', 'ATA', 'GG', '']\n"
     ]
    },
    {
     "ename": "ValueError",
     "evalue": "'TAG' is not in list",
     "output_type": "error",
     "traceback": [
      "\u001b[0;31m---------------------------------------------------------------------------\u001b[0m",
      "\u001b[0;31mValueError\u001b[0m                                Traceback (most recent call last)",
      "\u001b[0;32m<ipython-input-1-726b5ed335cf>\u001b[0m in \u001b[0;36m<module>\u001b[0;34m\u001b[0m\n\u001b[1;32m      5\u001b[0m     \u001b[0mOrf3\u001b[0m\u001b[0;34m.\u001b[0m\u001b[0mappend\u001b[0m\u001b[0;34m(\u001b[0m \u001b[0mdna\u001b[0m\u001b[0;34m[\u001b[0m\u001b[0;36m2\u001b[0m\u001b[0;34m+\u001b[0m\u001b[0mint\u001b[0m\u001b[0;34m(\u001b[0m\u001b[0mi\u001b[0m\u001b[0;34m)\u001b[0m\u001b[0;34m:\u001b[0m\u001b[0;36m5\u001b[0m\u001b[0;34m+\u001b[0m\u001b[0mint\u001b[0m\u001b[0;34m(\u001b[0m\u001b[0mi\u001b[0m\u001b[0;34m)\u001b[0m\u001b[0;34m]\u001b[0m \u001b[0;34m)\u001b[0m\u001b[0;34m\u001b[0m\u001b[0;34m\u001b[0m\u001b[0m\n\u001b[1;32m      6\u001b[0m \u001b[0mprint\u001b[0m\u001b[0;34m(\u001b[0m\u001b[0mOrf3\u001b[0m\u001b[0;34m)\u001b[0m\u001b[0;34m\u001b[0m\u001b[0;34m\u001b[0m\u001b[0m\n\u001b[0;32m----> 7\u001b[0;31m \u001b[0mprint\u001b[0m\u001b[0;34m(\u001b[0m\u001b[0mOrf3\u001b[0m\u001b[0;34m.\u001b[0m\u001b[0mindex\u001b[0m\u001b[0;34m(\u001b[0m\u001b[0;34m\"TAG\"\u001b[0m\u001b[0;34m)\u001b[0m\u001b[0;34m)\u001b[0m\u001b[0;34m\u001b[0m\u001b[0;34m\u001b[0m\u001b[0m\n\u001b[0m\u001b[1;32m      8\u001b[0m \u001b[0;31m# start = 'ATG'\u001b[0m\u001b[0;34m\u001b[0m\u001b[0;34m\u001b[0m\u001b[0;34m\u001b[0m\u001b[0m\n\u001b[1;32m      9\u001b[0m \u001b[0;31m# stop = ['TAG', 'TAA', 'TGA']\u001b[0m\u001b[0;34m\u001b[0m\u001b[0;34m\u001b[0m\u001b[0;34m\u001b[0m\u001b[0m\n",
      "\u001b[0;31mValueError\u001b[0m: 'TAG' is not in list"
     ]
    }
   ],
   "source": [
    "dna = \"ATGAGATAGG\"\n",
    "Orf3 = []\n",
    "\n",
    "for i in range(0, len(dna), 3 ):\n",
    "    Orf3.append( dna[2+int(i):5+int(i)] )\n",
    "print(Orf3)\n",
    "print(Orf3.index(\"TAG\"))\n",
    "# start = 'ATG'\n",
    "# stop = ['TAG', 'TAA', 'TGA']"
   ]
  },
  {
   "cell_type": "code",
   "execution_count": 11,
   "metadata": {},
   "outputs": [
    {
     "name": "stdout",
     "output_type": "stream",
     "text": [
      "['CCT', 'ATC', 'TCA', 'T']\n"
     ]
    },
    {
     "ename": "ValueError",
     "evalue": "'TAG' is not in list",
     "output_type": "error",
     "traceback": [
      "\u001b[0;31m---------------------------------------------------------------------------\u001b[0m",
      "\u001b[0;31mValueError\u001b[0m                                Traceback (most recent call last)",
      "\u001b[0;32m<ipython-input-11-1f927e175415>\u001b[0m in \u001b[0;36m<module>\u001b[0;34m\u001b[0m\n\u001b[1;32m      7\u001b[0m     \u001b[0mOrf4\u001b[0m\u001b[0;34m.\u001b[0m\u001b[0mappend\u001b[0m\u001b[0;34m(\u001b[0m \u001b[0mRevers\u001b[0m\u001b[0;34m[\u001b[0m\u001b[0;36m0\u001b[0m\u001b[0;34m+\u001b[0m\u001b[0mint\u001b[0m\u001b[0;34m(\u001b[0m\u001b[0mi\u001b[0m\u001b[0;34m)\u001b[0m\u001b[0;34m:\u001b[0m\u001b[0;36m3\u001b[0m\u001b[0;34m+\u001b[0m\u001b[0mint\u001b[0m\u001b[0;34m(\u001b[0m\u001b[0mi\u001b[0m\u001b[0;34m)\u001b[0m\u001b[0;34m]\u001b[0m \u001b[0;34m)\u001b[0m\u001b[0;34m\u001b[0m\u001b[0;34m\u001b[0m\u001b[0m\n\u001b[1;32m      8\u001b[0m \u001b[0mprint\u001b[0m\u001b[0;34m(\u001b[0m\u001b[0mOrf4\u001b[0m\u001b[0;34m)\u001b[0m\u001b[0;34m\u001b[0m\u001b[0;34m\u001b[0m\u001b[0m\n\u001b[0;32m----> 9\u001b[0;31m \u001b[0mprint\u001b[0m\u001b[0;34m(\u001b[0m\u001b[0mOrf4\u001b[0m\u001b[0;34m.\u001b[0m\u001b[0mindex\u001b[0m\u001b[0;34m(\u001b[0m\u001b[0;34m\"TAG\"\u001b[0m\u001b[0;34m)\u001b[0m\u001b[0;34m)\u001b[0m\u001b[0;34m\u001b[0m\u001b[0;34m\u001b[0m\u001b[0m\n\u001b[0m\u001b[1;32m     10\u001b[0m \u001b[0;31m# start = 'ATG'\u001b[0m\u001b[0;34m\u001b[0m\u001b[0;34m\u001b[0m\u001b[0;34m\u001b[0m\u001b[0m\n\u001b[1;32m     11\u001b[0m \u001b[0;31m# stop = ['TAG', 'TAA', 'TGA']\u001b[0m\u001b[0;34m\u001b[0m\u001b[0;34m\u001b[0m\u001b[0;34m\u001b[0m\u001b[0m\n",
      "\u001b[0;31mValueError\u001b[0m: 'TAG' is not in list"
     ]
    }
   ],
   "source": [
    "dna = \"ATGAGATAGG\"\n",
    "Revers = get_reverse_complement(dna)\n",
    "\n",
    "Orf4 = []\n",
    "\n",
    "for i in range(0, len(dna), 3 ):\n",
    "    Orf4.append( Revers[0+int(i):3+int(i)] )\n",
    "print(Orf4)\n",
    "print(Orf4.index(\"TAG\"))\n",
    "# start = 'ATG'\n",
    "# stop = ['TAG', 'TAA', 'TGA']"
   ]
  },
  {
   "cell_type": "code",
   "execution_count": 12,
   "metadata": {},
   "outputs": [
    {
     "name": "stdout",
     "output_type": "stream",
     "text": [
      "['CTA', 'TCT', 'CAT', '']\n"
     ]
    },
    {
     "ename": "ValueError",
     "evalue": "'TAG' is not in list",
     "output_type": "error",
     "traceback": [
      "\u001b[0;31m---------------------------------------------------------------------------\u001b[0m",
      "\u001b[0;31mValueError\u001b[0m                                Traceback (most recent call last)",
      "\u001b[0;32m<ipython-input-12-79b896ac4dad>\u001b[0m in \u001b[0;36m<module>\u001b[0;34m\u001b[0m\n\u001b[1;32m      7\u001b[0m     \u001b[0mOrf5\u001b[0m\u001b[0;34m.\u001b[0m\u001b[0mappend\u001b[0m\u001b[0;34m(\u001b[0m \u001b[0mRevers\u001b[0m\u001b[0;34m[\u001b[0m\u001b[0;36m1\u001b[0m\u001b[0;34m+\u001b[0m\u001b[0mint\u001b[0m\u001b[0;34m(\u001b[0m\u001b[0mi\u001b[0m\u001b[0;34m)\u001b[0m\u001b[0;34m:\u001b[0m\u001b[0;36m4\u001b[0m\u001b[0;34m+\u001b[0m\u001b[0mint\u001b[0m\u001b[0;34m(\u001b[0m\u001b[0mi\u001b[0m\u001b[0;34m)\u001b[0m\u001b[0;34m]\u001b[0m \u001b[0;34m)\u001b[0m\u001b[0;34m\u001b[0m\u001b[0;34m\u001b[0m\u001b[0m\n\u001b[1;32m      8\u001b[0m \u001b[0mprint\u001b[0m\u001b[0;34m(\u001b[0m\u001b[0mOrf5\u001b[0m\u001b[0;34m)\u001b[0m\u001b[0;34m\u001b[0m\u001b[0;34m\u001b[0m\u001b[0m\n\u001b[0;32m----> 9\u001b[0;31m \u001b[0mprint\u001b[0m\u001b[0;34m(\u001b[0m\u001b[0mOrf5\u001b[0m\u001b[0;34m.\u001b[0m\u001b[0mindex\u001b[0m\u001b[0;34m(\u001b[0m\u001b[0;34m\"TAG\"\u001b[0m\u001b[0;34m)\u001b[0m\u001b[0;34m)\u001b[0m\u001b[0;34m\u001b[0m\u001b[0;34m\u001b[0m\u001b[0m\n\u001b[0m\u001b[1;32m     10\u001b[0m \u001b[0;31m# start = 'ATG'\u001b[0m\u001b[0;34m\u001b[0m\u001b[0;34m\u001b[0m\u001b[0;34m\u001b[0m\u001b[0m\n\u001b[1;32m     11\u001b[0m \u001b[0;31m# stop = ['TAG', 'TAA', 'TGA']\u001b[0m\u001b[0;34m\u001b[0m\u001b[0;34m\u001b[0m\u001b[0;34m\u001b[0m\u001b[0m\n",
      "\u001b[0;31mValueError\u001b[0m: 'TAG' is not in list"
     ]
    }
   ],
   "source": [
    "dna = \"ATGAGATAGG\"\n",
    "Revers = get_reverse_complement(dna)\n",
    "\n",
    "Orf5 = []\n",
    "\n",
    "for i in range(0, len(dna), 3 ):\n",
    "    Orf5.append( Revers[1+int(i):4+int(i)] )\n",
    "print(Orf5)\n",
    "print(Orf5.index(\"TAG\"))\n",
    "# start = 'ATG'\n",
    "# stop = ['TAG', 'TAA', 'TGA']"
   ]
  },
  {
   "cell_type": "code",
   "execution_count": 13,
   "metadata": {},
   "outputs": [
    {
     "name": "stdout",
     "output_type": "stream",
     "text": [
      "['TAT', 'CTC', 'AT', '']\n"
     ]
    },
    {
     "ename": "ValueError",
     "evalue": "'TAG' is not in list",
     "output_type": "error",
     "traceback": [
      "\u001b[0;31m---------------------------------------------------------------------------\u001b[0m",
      "\u001b[0;31mValueError\u001b[0m                                Traceback (most recent call last)",
      "\u001b[0;32m<ipython-input-13-b8ca9195a3e9>\u001b[0m in \u001b[0;36m<module>\u001b[0;34m\u001b[0m\n\u001b[1;32m      7\u001b[0m     \u001b[0mOrf6\u001b[0m\u001b[0;34m.\u001b[0m\u001b[0mappend\u001b[0m\u001b[0;34m(\u001b[0m \u001b[0mRevers\u001b[0m\u001b[0;34m[\u001b[0m\u001b[0;36m2\u001b[0m\u001b[0;34m+\u001b[0m\u001b[0mint\u001b[0m\u001b[0;34m(\u001b[0m\u001b[0mi\u001b[0m\u001b[0;34m)\u001b[0m\u001b[0;34m:\u001b[0m\u001b[0;36m5\u001b[0m\u001b[0;34m+\u001b[0m\u001b[0mint\u001b[0m\u001b[0;34m(\u001b[0m\u001b[0mi\u001b[0m\u001b[0;34m)\u001b[0m\u001b[0;34m]\u001b[0m \u001b[0;34m)\u001b[0m\u001b[0;34m\u001b[0m\u001b[0;34m\u001b[0m\u001b[0m\n\u001b[1;32m      8\u001b[0m \u001b[0mprint\u001b[0m\u001b[0;34m(\u001b[0m\u001b[0mOrf6\u001b[0m\u001b[0;34m)\u001b[0m\u001b[0;34m\u001b[0m\u001b[0;34m\u001b[0m\u001b[0m\n\u001b[0;32m----> 9\u001b[0;31m \u001b[0mprint\u001b[0m\u001b[0;34m(\u001b[0m\u001b[0mOrf6\u001b[0m\u001b[0;34m.\u001b[0m\u001b[0mindex\u001b[0m\u001b[0;34m(\u001b[0m\u001b[0;34m\"TAG\"\u001b[0m\u001b[0;34m)\u001b[0m\u001b[0;34m)\u001b[0m\u001b[0;34m\u001b[0m\u001b[0;34m\u001b[0m\u001b[0m\n\u001b[0m\u001b[1;32m     10\u001b[0m \u001b[0;31m# start = 'ATG'\u001b[0m\u001b[0;34m\u001b[0m\u001b[0;34m\u001b[0m\u001b[0;34m\u001b[0m\u001b[0m\n\u001b[1;32m     11\u001b[0m \u001b[0;31m# stop = ['TAG', 'TAA', 'TGA']\u001b[0m\u001b[0;34m\u001b[0m\u001b[0;34m\u001b[0m\u001b[0;34m\u001b[0m\u001b[0m\n",
      "\u001b[0;31mValueError\u001b[0m: 'TAG' is not in list"
     ]
    }
   ],
   "source": [
    "dna = \"ATGAGATAGG\"\n",
    "Revers = get_reverse_complement(dna)\n",
    "\n",
    "Orf6 = []\n",
    "\n",
    "for i in range(0, len(dna), 3 ):\n",
    "    Orf6.append( Revers[2+int(i):5+int(i)] )\n",
    "print(Orf6)\n",
    "print(Orf6.index(\"TAG\"))\n",
    "# start = 'ATG'\n",
    "# stop = ['TAG', 'TAA', 'TGA']"
   ]
  }
 ],
 "metadata": {
  "kernelspec": {
   "display_name": "Python 3",
   "language": "python",
   "name": "python3"
  },
  "language_info": {
   "codemirror_mode": {
    "name": "ipython",
    "version": 3
   },
   "file_extension": ".py",
   "mimetype": "text/x-python",
   "name": "python",
   "nbconvert_exporter": "python",
   "pygments_lexer": "ipython3",
   "version": "3.8.3"
  }
 },
 "nbformat": 4,
 "nbformat_minor": 4
}
